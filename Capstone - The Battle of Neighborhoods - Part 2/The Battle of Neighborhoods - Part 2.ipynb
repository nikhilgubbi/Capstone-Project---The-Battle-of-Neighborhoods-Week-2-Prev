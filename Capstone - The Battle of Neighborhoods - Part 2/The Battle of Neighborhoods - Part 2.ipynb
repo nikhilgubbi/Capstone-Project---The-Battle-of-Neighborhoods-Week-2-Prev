{
 "cells": [
  {
   "cell_type": "markdown",
   "metadata": {
    "collapsed": true
   },
   "source": [
    "# THE BATTLE OF NEIGHBORHOODS"
   ]
  },
  {
   "cell_type": "markdown",
   "metadata": {},
   "source": [
    "# Introduction:"
   ]
  },
  {
   "cell_type": "markdown",
   "metadata": {},
   "source": [
    "New York City's demographics show that it is a large and ethnically diverse metropolis. With it's diverse culture , comes diverse food items. There are many resturants in New york City, each beloning to different categories like Chinese , Indian , French etc.\n",
    "\n",
    "So as part of this project , we will list and visualize all major parts of New York City that has great indian resturants."
   ]
  },
  {
   "cell_type": "markdown",
   "metadata": {},
   "source": [
    "# Data:"
   ]
  },
  {
   "cell_type": "markdown",
   "metadata": {},
   "source": [
    "For this project we need the following data:\n",
    "1. New York City data that contains list Boroughs, Neighborhoods along with their latitude and longitude.\n",
    "2. Indian resturants in each neighborhood of new york city.\n",
    "3. GeoSpace data"
   ]
  },
  {
   "cell_type": "markdown",
   "metadata": {},
   "source": [
    "## Questions that will be answers at the end of this project :"
   ]
  },
  {
   "cell_type": "markdown",
   "metadata": {},
   "source": [
    "### 1. What are best location in New York City for Indian Cuisine?\n",
    "### 2. Which areas have potential Indian Restaurant Market?\n",
    "### 3. Which all areas lack Indian Restaurants?\n",
    "### 4. Which is the best place to stay if you prefer Indian Cuisine?"
   ]
  },
  {
   "cell_type": "markdown",
   "metadata": {},
   "source": [
    "# Methodology:"
   ]
  },
  {
   "cell_type": "markdown",
   "metadata": {},
   "source": [
    "1. We begin by collecting the New York city data from \"https://cocl.us/new_york_dataset\".\n",
    "2. We will find all venues for each neighborhood using FourSquare API.\n",
    "3. We will then filter out all Indian Restuarant venues.\n",
    "4. Next using FourSquare API, we will find the Ratings, Tips, and Like count for all the Indian Resturants.\n",
    "5. Next we will sort the data keeping Ratings as the constraint.\n",
    "6. Finally, we will visualize the Ranking of neighborhoods using python's Folium library."
   ]
  },
  {
   "cell_type": "markdown",
   "metadata": {},
   "source": [
    "Lets Start by importing the required Libraries."
   ]
  },
  {
   "cell_type": "code",
   "execution_count": 56,
   "metadata": {},
   "outputs": [
    {
     "name": "stdout",
     "output_type": "stream",
     "text": [
      "Libraries imported.\n"
     ]
    }
   ],
   "source": [
    "import pandas as pd\n",
    "import numpy as np\n",
    "pd.set_option('display.max_columns', None)\n",
    "pd.set_option('display.max_rows', None)\n",
    "import requests\n",
    "from bs4 import BeautifulSoup\n",
    "#!pip install geocoder\n",
    "import geocoder\n",
    "import os\n",
    "#!pip install folium\n",
    "import folium # map rendering library\n",
    "from geopy.geocoders import Nominatim # convert an address into latitude and longitude values\n",
    "# Matplotlib and associated plotting modules\n",
    "import matplotlib.pyplot as plt\n",
    "import matplotlib.cm as cm\n",
    "import matplotlib.colors as colors\n",
    "%matplotlib inline\n",
    "\n",
    "\n",
    "print('Libraries imported.')"
   ]
  },
  {
   "cell_type": "markdown",
   "metadata": {},
   "source": [
    "Now we define a function to get the geocodes i.e latitude and longitude of a given location using geopy."
   ]
  },
  {
   "cell_type": "code",
   "execution_count": 2,
   "metadata": {},
   "outputs": [],
   "source": [
    "def geo_location(address):\n",
    "    # get geo location of address\n",
    "    geolocator = Nominatim(user_agent=\"ny_explorer\")\n",
    "    location = geolocator.geocode(address)\n",
    "    latitude = location.latitude\n",
    "    longitude = location.longitude\n",
    "    return latitude,longitude"
   ]
  },
  {
   "cell_type": "markdown",
   "metadata": {},
   "source": [
    "We define a function to intract with FourSquare API and get top 100 venues within a radius of 1000 metres for a given latitude and longitude. Below function will return us the venue id , venue name and category."
   ]
  },
  {
   "cell_type": "code",
   "execution_count": 54,
   "metadata": {},
   "outputs": [],
   "source": [
    "def get_venues(lat,lng):\n",
    "    \n",
    "    #set variables\n",
    "    radius=1000\n",
    "    LIMIT=100\n",
    "    CLIENT_ID = ['CLIENT_ID'] # your Foursquare ID\n",
    "    CLIENT_SECRET = ['CLIENT_SECRET'] # your Foursquare Secret\n",
    "    VERSION = '20200401' # Foursquare API version\n",
    "    \n",
    "    #url to fetch data from foursquare api\n",
    "    url = 'https://api.foursquare.com/v2/venues/explore?&client_id={}&client_secret={}&v={}&ll={},{}&radius={}&limit={}'.format(\n",
    "            CLIENT_ID, \n",
    "            CLIENT_SECRET, \n",
    "            VERSION, \n",
    "            lat, \n",
    "            lng, \n",
    "            radius, \n",
    "            LIMIT)\n",
    "    \n",
    "    # get all the data\n",
    "    results = requests.get(url).json()\n",
    "    venue_data=results[\"response\"]['groups'][0]['items']\n",
    "    venue_details=[]\n",
    "    for row in venue_data:\n",
    "        try:\n",
    "            venue_id=row['venue']['id']\n",
    "            venue_name=row['venue']['name']\n",
    "            venue_category=row['venue']['categories'][0]['name']\n",
    "            venue_details.append([venue_id,venue_name,venue_category])\n",
    "        except KeyError:\n",
    "            pass\n",
    "        \n",
    "    column_names=['ID','Name','Category']\n",
    "    df = pd.DataFrame(venue_details,columns=column_names)\n",
    "    return df"
   ]
  },
  {
   "cell_type": "markdown",
   "metadata": {},
   "source": [
    "Now we will define a function to get venue details like like count , rating , tip counts for a given venue id. This will be used for ranking."
   ]
  },
  {
   "cell_type": "code",
   "execution_count": 55,
   "metadata": {},
   "outputs": [],
   "source": [
    "def get_venue_details(venue_id):\n",
    "        \n",
    "    CLIENT_ID = ['CLIENT_ID'] # your Foursquare ID\n",
    "    CLIENT_SECRET = ['CLIENT_SECRET'] # your Foursquare Secret\n",
    "    VERSION = '20200401' # Foursquare API version\n",
    "    \n",
    "    #url to fetch data from foursquare api\n",
    "    url = 'https://api.foursquare.com/v2/venues/{}?&client_id={}&client_secret={}&v={}'.format(\n",
    "            venue_id,\n",
    "            CLIENT_ID, \n",
    "            CLIENT_SECRET, \n",
    "            VERSION)\n",
    "    \n",
    "    # get all the data\n",
    "    results = requests.get(url).json()\n",
    "    venue_data=results['response']['venue']\n",
    "    venue_details=[]\n",
    "    try:\n",
    "        venue_id=venue_data['id']\n",
    "        venue_name=venue_data['name']\n",
    "        venue_likes=venue_data['likes']['count']\n",
    "        venue_rating=venue_data['rating']\n",
    "        venue_tips=venue_data['tips']['count']\n",
    "        venue_details.append([venue_id,venue_name,venue_likes,venue_rating,venue_tips])\n",
    "    except KeyError:\n",
    "        pass\n",
    "        \n",
    "    column_names=['ID','Name','Likes','Rating','Tips']\n",
    "    df = pd.DataFrame(venue_details,columns=column_names)\n",
    "    return df"
   ]
  },
  {
   "cell_type": "markdown",
   "metadata": {},
   "source": [
    "Now we define a funtion to get the new york city data such as Boroughs, Neighborhoods along with their latitude and longitude."
   ]
  },
  {
   "cell_type": "code",
   "execution_count": 5,
   "metadata": {},
   "outputs": [],
   "source": [
    "def get_new_york_data():\n",
    "    url='https://cocl.us/new_york_dataset'\n",
    "    resp=requests.get(url).json()\n",
    "    # all data is present in features label\n",
    "    features=resp['features']\n",
    "    \n",
    "    # define the dataframe columns\n",
    "    column_names = ['Borough', 'Neighborhood', 'Latitude', 'Longitude'] \n",
    "    # instantiate the dataframe\n",
    "    new_york_data = pd.DataFrame(columns=column_names)\n",
    "    \n",
    "    for data in features:\n",
    "        borough = data['properties']['borough'] \n",
    "        neighborhood_name = data['properties']['name']\n",
    "        \n",
    "        neighborhood_latlon = data['geometry']['coordinates']\n",
    "        neighborhood_lat = neighborhood_latlon[1]\n",
    "        neighborhood_lon = neighborhood_latlon[0]\n",
    "    \n",
    "        new_york_data = new_york_data.append({'Borough': borough,\n",
    "                                          'Neighborhood': neighborhood_name,\n",
    "                                          'Latitude': neighborhood_lat,\n",
    "                                          'Longitude': neighborhood_lon}, ignore_index=True)\n",
    "    \n",
    "    return new_york_data"
   ]
  },
  {
   "cell_type": "markdown",
   "metadata": {},
   "source": [
    "We will call the above funtion to get the new york city data."
   ]
  },
  {
   "cell_type": "code",
   "execution_count": 6,
   "metadata": {},
   "outputs": [],
   "source": [
    "new_york_data=get_new_york_data()"
   ]
  },
  {
   "cell_type": "code",
   "execution_count": 7,
   "metadata": {},
   "outputs": [
    {
     "data": {
      "text/html": [
       "<div>\n",
       "<style scoped>\n",
       "    .dataframe tbody tr th:only-of-type {\n",
       "        vertical-align: middle;\n",
       "    }\n",
       "\n",
       "    .dataframe tbody tr th {\n",
       "        vertical-align: top;\n",
       "    }\n",
       "\n",
       "    .dataframe thead th {\n",
       "        text-align: right;\n",
       "    }\n",
       "</style>\n",
       "<table border=\"1\" class=\"dataframe\">\n",
       "  <thead>\n",
       "    <tr style=\"text-align: right;\">\n",
       "      <th></th>\n",
       "      <th>Borough</th>\n",
       "      <th>Neighborhood</th>\n",
       "      <th>Latitude</th>\n",
       "      <th>Longitude</th>\n",
       "    </tr>\n",
       "  </thead>\n",
       "  <tbody>\n",
       "    <tr>\n",
       "      <td>0</td>\n",
       "      <td>Bronx</td>\n",
       "      <td>Wakefield</td>\n",
       "      <td>40.894705</td>\n",
       "      <td>-73.847201</td>\n",
       "    </tr>\n",
       "    <tr>\n",
       "      <td>1</td>\n",
       "      <td>Bronx</td>\n",
       "      <td>Co-op City</td>\n",
       "      <td>40.874294</td>\n",
       "      <td>-73.829939</td>\n",
       "    </tr>\n",
       "    <tr>\n",
       "      <td>2</td>\n",
       "      <td>Bronx</td>\n",
       "      <td>Eastchester</td>\n",
       "      <td>40.887556</td>\n",
       "      <td>-73.827806</td>\n",
       "    </tr>\n",
       "    <tr>\n",
       "      <td>3</td>\n",
       "      <td>Bronx</td>\n",
       "      <td>Fieldston</td>\n",
       "      <td>40.895437</td>\n",
       "      <td>-73.905643</td>\n",
       "    </tr>\n",
       "    <tr>\n",
       "      <td>4</td>\n",
       "      <td>Bronx</td>\n",
       "      <td>Riverdale</td>\n",
       "      <td>40.890834</td>\n",
       "      <td>-73.912585</td>\n",
       "    </tr>\n",
       "  </tbody>\n",
       "</table>\n",
       "</div>"
      ],
      "text/plain": [
       "  Borough Neighborhood   Latitude  Longitude\n",
       "0   Bronx    Wakefield  40.894705 -73.847201\n",
       "1   Bronx   Co-op City  40.874294 -73.829939\n",
       "2   Bronx  Eastchester  40.887556 -73.827806\n",
       "3   Bronx    Fieldston  40.895437 -73.905643\n",
       "4   Bronx    Riverdale  40.890834 -73.912585"
      ]
     },
     "execution_count": 7,
     "metadata": {},
     "output_type": "execute_result"
    }
   ],
   "source": [
    "new_york_data.head()"
   ]
  },
  {
   "cell_type": "code",
   "execution_count": 8,
   "metadata": {},
   "outputs": [
    {
     "data": {
      "text/plain": [
       "(306, 4)"
      ]
     },
     "execution_count": 8,
     "metadata": {},
     "output_type": "execute_result"
    }
   ],
   "source": [
    "new_york_data.shape"
   ]
  },
  {
   "cell_type": "markdown",
   "metadata": {},
   "source": [
    "### The above result shows that there are 306 different Neighborhoods in New York."
   ]
  },
  {
   "cell_type": "markdown",
   "metadata": {},
   "source": [
    "Now let create a BAR PLOT to show different Neighborhoods in New York."
   ]
  },
  {
   "cell_type": "code",
   "execution_count": 9,
   "metadata": {},
   "outputs": [
    {
     "data": {
      "image/png": "[encoded data removed]",
      "text/plain": [
       "<Figure size 900x500 with 1 Axes>"
      ]
     },
     "metadata": {
      "needs_background": "light"
     },
     "output_type": "display_data"
    }
   ],
   "source": [
    "plt.figure(figsize=(9,5), dpi = 100)\n",
    "# title\n",
    "plt.title('Number of Neighborhood for each Borough in New York City')\n",
    "#On x-axis\n",
    "plt.xlabel('Borough', fontsize = 15)\n",
    "#On y-axis\n",
    "plt.ylabel('No.of Neighborhood', fontsize=15)\n",
    "#giving a bar plot\n",
    "new_york_data.groupby('Borough')['Neighborhood'].count().plot(kind='bar')\n",
    "#legend\n",
    "plt.legend()\n",
    "#displays the plot\n",
    "plt.show()"
   ]
  },
  {
   "cell_type": "markdown",
   "metadata": {},
   "source": [
    "### From the above Bar Plot, we can see that Queens has highest number of neighborhoods."
   ]
  },
  {
   "cell_type": "markdown",
   "metadata": {},
   "source": [
    "Next we will collect Indian resturants for each Neighborhood."
   ]
  },
  {
   "cell_type": "code",
   "execution_count": 10,
   "metadata": {},
   "outputs": [
    {
     "name": "stdout",
     "output_type": "stream",
     "text": [
      "( 1 / 306 ) Indian Resturants in Wakefield, Bronx:0\n",
      "( 2 / 306 ) Indian Resturants in Co-op City, Bronx:0\n",
      "( 3 / 306 ) Indian Resturants in Eastchester, Bronx:0\n",
      "( 4 / 306 ) Indian Resturants in Fieldston, Bronx:0\n",
      "( 5 / 306 ) Indian Resturants in Riverdale, Bronx:0\n",
      "( 6 / 306 ) Indian Resturants in Kingsbridge, Bronx:0\n",
      "( 7 / 306 ) Indian Resturants in Marble Hill, Manhattan:0\n",
      "( 8 / 306 ) Indian Resturants in Woodlawn, Bronx:1\n",
      "( 9 / 306 ) Indian Resturants in Norwood, Bronx:0\n",
      "( 10 / 306 ) Indian Resturants in Williamsbridge, Bronx:0\n",
      "( 11 / 306 ) Indian Resturants in Baychester, Bronx:0\n",
      "( 12 / 306 ) Indian Resturants in Pelham Parkway, Bronx:0\n",
      "( 13 / 306 ) Indian Resturants in City Island, Bronx:0\n",
      "( 14 / 306 ) Indian Resturants in Bedford Park, Bronx:0\n",
      "( 15 / 306 ) Indian Resturants in University Heights, Bronx:0\n",
      "( 16 / 306 ) Indian Resturants in Morris Heights, Bronx:0\n",
      "( 17 / 306 ) Indian Resturants in Fordham, Bronx:0\n",
      "( 18 / 306 ) Indian Resturants in East Tremont, Bronx:0\n",
      "( 19 / 306 ) Indian Resturants in West Farms, Bronx:0\n",
      "( 20 / 306 ) Indian Resturants in High  Bridge, Bronx:0\n",
      "( 21 / 306 ) Indian Resturants in Melrose, Bronx:0\n",
      "( 22 / 306 ) Indian Resturants in Mott Haven, Bronx:0\n",
      "( 23 / 306 ) Indian Resturants in Port Morris, Bronx:0\n",
      "( 24 / 306 ) Indian Resturants in Longwood, Bronx:0\n",
      "( 25 / 306 ) Indian Resturants in Hunts Point, Bronx:0\n",
      "( 26 / 306 ) Indian Resturants in Morrisania, Bronx:0\n",
      "( 27 / 306 ) Indian Resturants in Soundview, Bronx:0\n",
      "( 28 / 306 ) Indian Resturants in Clason Point, Bronx:0\n",
      "( 29 / 306 ) Indian Resturants in Throgs Neck, Bronx:0\n",
      "( 30 / 306 ) Indian Resturants in Country Club, Bronx:0\n",
      "( 31 / 306 ) Indian Resturants in Parkchester, Bronx:1\n",
      "( 32 / 306 ) Indian Resturants in Westchester Square, Bronx:0\n",
      "( 33 / 306 ) Indian Resturants in Van Nest, Bronx:0\n",
      "( 34 / 306 ) Indian Resturants in Morris Park, Bronx:0\n",
      "( 35 / 306 ) Indian Resturants in Belmont, Bronx:0\n",
      "( 36 / 306 ) Indian Resturants in Spuyten Duyvil, Bronx:1\n",
      "( 37 / 306 ) Indian Resturants in North Riverdale, Bronx:0\n",
      "( 38 / 306 ) Indian Resturants in Pelham Bay, Bronx:0\n",
      "( 39 / 306 ) Indian Resturants in Schuylerville, Bronx:0\n",
      "( 40 / 306 ) Indian Resturants in Edgewater Park, Bronx:0\n",
      "( 41 / 306 ) Indian Resturants in Castle Hill, Bronx:0\n",
      "( 42 / 306 ) Indian Resturants in Olinville, Bronx:0\n",
      "( 43 / 306 ) Indian Resturants in Pelham Gardens, Bronx:0\n",
      "( 44 / 306 ) Indian Resturants in Concourse, Bronx:1\n",
      "( 45 / 306 ) Indian Resturants in Unionport, Bronx:2\n",
      "( 46 / 306 ) Indian Resturants in Edenwald, Bronx:0\n",
      "( 47 / 306 ) Indian Resturants in Bay Ridge, Brooklyn:1\n",
      "( 48 / 306 ) Indian Resturants in Bensonhurst, Brooklyn:0\n",
      "( 49 / 306 ) Indian Resturants in Sunset Park, Brooklyn:0\n",
      "( 50 / 306 ) Indian Resturants in Greenpoint, Brooklyn:0\n",
      "( 51 / 306 ) Indian Resturants in Gravesend, Brooklyn:0\n",
      "( 52 / 306 ) Indian Resturants in Brighton Beach, Brooklyn:1\n",
      "( 53 / 306 ) Indian Resturants in Sheepshead Bay, Brooklyn:0\n",
      "( 54 / 306 ) Indian Resturants in Manhattan Terrace, Brooklyn:0\n",
      "( 55 / 306 ) Indian Resturants in Flatbush, Brooklyn:2\n",
      "( 56 / 306 ) Indian Resturants in Crown Heights, Brooklyn:0\n",
      "( 57 / 306 ) Indian Resturants in East Flatbush, Brooklyn:1\n",
      "( 58 / 306 ) Indian Resturants in Kensington, Brooklyn:2\n",
      "( 59 / 306 ) Indian Resturants in Windsor Terrace, Brooklyn:0\n",
      "( 60 / 306 ) Indian Resturants in Prospect Heights, Brooklyn:0\n",
      "( 61 / 306 ) Indian Resturants in Brownsville, Brooklyn:0\n",
      "( 62 / 306 ) Indian Resturants in Williamsburg, Brooklyn:0\n",
      "( 63 / 306 ) Indian Resturants in Bushwick, Brooklyn:0\n",
      "( 64 / 306 ) Indian Resturants in Bedford Stuyvesant, Brooklyn:0\n",
      "( 65 / 306 ) Indian Resturants in Brooklyn Heights, Brooklyn:0\n",
      "( 66 / 306 ) Indian Resturants in Cobble Hill, Brooklyn:0\n",
      "( 67 / 306 ) Indian Resturants in Carroll Gardens, Brooklyn:0\n",
      "( 68 / 306 ) Indian Resturants in Red Hook, Brooklyn:0\n",
      "( 69 / 306 ) Indian Resturants in Gowanus, Brooklyn:1\n",
      "( 70 / 306 ) Indian Resturants in Fort Greene, Brooklyn:1\n",
      "( 71 / 306 ) Indian Resturants in Park Slope, Brooklyn:0\n",
      "( 72 / 306 ) Indian Resturants in Cypress Hills, Brooklyn:0\n",
      "( 73 / 306 ) Indian Resturants in East New York, Brooklyn:0\n",
      "( 74 / 306 ) Indian Resturants in Starrett City, Brooklyn:0\n",
      "( 75 / 306 ) Indian Resturants in Canarsie, Brooklyn:0\n",
      "( 76 / 306 ) Indian Resturants in Flatlands, Brooklyn:0\n",
      "( 77 / 306 ) Indian Resturants in Mill Island, Brooklyn:0\n",
      "( 78 / 306 ) Indian Resturants in Manhattan Beach, Brooklyn:0\n",
      "( 79 / 306 ) Indian Resturants in Coney Island, Brooklyn:0\n",
      "( 80 / 306 ) Indian Resturants in Bath Beach, Brooklyn:0\n",
      "( 81 / 306 ) Indian Resturants in Borough Park, Brooklyn:0\n",
      "( 82 / 306 ) Indian Resturants in Dyker Heights, Brooklyn:0\n",
      "( 83 / 306 ) Indian Resturants in Gerritsen Beach, Brooklyn:0\n",
      "( 84 / 306 ) Indian Resturants in Marine Park, Brooklyn:0\n",
      "( 85 / 306 ) Indian Resturants in Clinton Hill, Brooklyn:2\n",
      "( 86 / 306 ) Indian Resturants in Sea Gate, Brooklyn:0\n",
      "( 87 / 306 ) Indian Resturants in Downtown, Brooklyn:0\n",
      "( 88 / 306 ) Indian Resturants in Boerum Hill, Brooklyn:0\n",
      "( 89 / 306 ) Indian Resturants in Prospect Lefferts Gardens, Brooklyn:2\n",
      "( 90 / 306 ) Indian Resturants in Ocean Hill, Brooklyn:2\n",
      "( 91 / 306 ) Indian Resturants in City Line, Brooklyn:0\n",
      "( 92 / 306 ) Indian Resturants in Bergen Beach, Brooklyn:0\n",
      "( 93 / 306 ) Indian Resturants in Midwood, Brooklyn:0\n",
      "( 94 / 306 ) Indian Resturants in Prospect Park South, Brooklyn:2\n",
      "( 95 / 306 ) Indian Resturants in Georgetown, Brooklyn:0\n",
      "( 96 / 306 ) Indian Resturants in East Williamsburg, Brooklyn:0\n",
      "( 97 / 306 ) Indian Resturants in North Side, Brooklyn:1\n",
      "( 98 / 306 ) Indian Resturants in South Side, Brooklyn:1\n",
      "( 99 / 306 ) Indian Resturants in Ocean Parkway, Brooklyn:0\n",
      "( 100 / 306 ) Indian Resturants in Fort Hamilton, Brooklyn:0\n",
      "( 101 / 306 ) Indian Resturants in Chinatown, Manhattan:0\n",
      "( 102 / 306 ) Indian Resturants in Washington Heights, Manhattan:1\n",
      "( 103 / 306 ) Indian Resturants in Inwood, Manhattan:0\n",
      "( 104 / 306 ) Indian Resturants in Hamilton Heights, Manhattan:2\n",
      "( 105 / 306 ) Indian Resturants in Manhattanville, Manhattan:2\n",
      "( 106 / 306 ) Indian Resturants in Central Harlem, Manhattan:2\n",
      "( 107 / 306 ) Indian Resturants in East Harlem, Manhattan:1\n",
      "( 108 / 306 ) Indian Resturants in Upper East Side, Manhattan:0\n",
      "( 109 / 306 ) Indian Resturants in Yorkville, Manhattan:1\n",
      "( 110 / 306 ) Indian Resturants in Lenox Hill, Manhattan:0\n",
      "( 111 / 306 ) Indian Resturants in Roosevelt Island, Manhattan:1\n",
      "( 112 / 306 ) Indian Resturants in Upper West Side, Manhattan:2\n",
      "( 113 / 306 ) Indian Resturants in Lincoln Square, Manhattan:0\n",
      "( 114 / 306 ) Indian Resturants in Clinton, Manhattan:0\n",
      "( 115 / 306 ) Indian Resturants in Midtown, Manhattan:1\n",
      "( 116 / 306 ) Indian Resturants in Murray Hill, Manhattan:1\n",
      "( 117 / 306 ) Indian Resturants in Chelsea, Manhattan:1\n",
      "( 118 / 306 ) Indian Resturants in Greenwich Village, Manhattan:0\n",
      "( 119 / 306 ) Indian Resturants in East Village, Manhattan:0\n",
      "( 120 / 306 ) Indian Resturants in Lower East Side, Manhattan:0\n",
      "( 121 / 306 ) Indian Resturants in Tribeca, Manhattan:1\n",
      "( 122 / 306 ) Indian Resturants in Little Italy, Manhattan:0\n",
      "( 123 / 306 ) Indian Resturants in Soho, Manhattan:0\n",
      "( 124 / 306 ) Indian Resturants in West Village, Manhattan:2\n",
      "( 125 / 306 ) Indian Resturants in Manhattan Valley, Manhattan:5\n",
      "( 126 / 306 ) Indian Resturants in Morningside Heights, Manhattan:1\n",
      "( 127 / 306 ) Indian Resturants in Gramercy, Manhattan:3\n",
      "( 128 / 306 ) Indian Resturants in Battery Park City, Manhattan:0\n",
      "( 129 / 306 ) Indian Resturants in Financial District, Manhattan:0\n",
      "( 130 / 306 ) Indian Resturants in Astoria, Queens:1\n",
      "( 131 / 306 ) Indian Resturants in Woodside, Queens:8\n",
      "( 132 / 306 ) Indian Resturants in Jackson Heights, Queens:6\n",
      "( 133 / 306 ) Indian Resturants in Elmhurst, Queens:2\n",
      "( 134 / 306 ) Indian Resturants in Howard Beach, Queens:0\n",
      "( 135 / 306 ) Indian Resturants in Corona, Queens:0\n",
      "( 136 / 306 ) Indian Resturants in Forest Hills, Queens:0\n",
      "( 137 / 306 ) Indian Resturants in Kew Gardens, Queens:2\n",
      "( 138 / 306 ) Indian Resturants in Richmond Hill, Queens:6\n",
      "( 139 / 306 ) Indian Resturants in Flushing, Queens:0\n",
      "( 140 / 306 ) Indian Resturants in Long Island City, Queens:2\n",
      "( 141 / 306 ) Indian Resturants in Sunnyside, Queens:1\n",
      "( 142 / 306 ) Indian Resturants in East Elmhurst, Queens:0\n",
      "( 143 / 306 ) Indian Resturants in Maspeth, Queens:0\n",
      "( 144 / 306 ) Indian Resturants in Ridgewood, Queens:1\n",
      "( 145 / 306 ) Indian Resturants in Glendale, Queens:0\n",
      "( 146 / 306 ) Indian Resturants in Rego Park, Queens:1\n",
      "( 147 / 306 ) Indian Resturants in Woodhaven, Queens:0\n",
      "( 148 / 306 ) Indian Resturants in Ozone Park, Queens:1\n",
      "( 149 / 306 ) Indian Resturants in South Ozone Park, Queens:0\n",
      "( 150 / 306 ) Indian Resturants in College Point, Queens:0\n",
      "( 151 / 306 ) Indian Resturants in Whitestone, Queens:0\n",
      "( 152 / 306 ) Indian Resturants in Bayside, Queens:3\n",
      "( 153 / 306 ) Indian Resturants in Auburndale, Queens:0\n",
      "( 154 / 306 ) Indian Resturants in Little Neck, Queens:0\n",
      "( 155 / 306 ) Indian Resturants in Douglaston, Queens:0\n",
      "( 156 / 306 ) Indian Resturants in Glen Oaks, Queens:4\n",
      "( 157 / 306 ) Indian Resturants in Bellerose, Queens:2\n",
      "( 158 / 306 ) Indian Resturants in Kew Gardens Hills, Queens:1\n",
      "( 159 / 306 ) Indian Resturants in Fresh Meadows, Queens:0\n",
      "( 160 / 306 ) Indian Resturants in Briarwood, Queens:3\n",
      "( 161 / 306 ) Indian Resturants in Jamaica Center, Queens:3\n",
      "( 162 / 306 ) Indian Resturants in Oakland Gardens, Queens:0\n",
      "( 163 / 306 ) Indian Resturants in Queens Village, Queens:0\n",
      "( 164 / 306 ) Indian Resturants in Hollis, Queens:0\n",
      "( 165 / 306 ) Indian Resturants in South Jamaica, Queens:0\n",
      "( 166 / 306 ) Indian Resturants in St. Albans, Queens:0\n",
      "( 167 / 306 ) Indian Resturants in Rochdale, Queens:0\n",
      "( 168 / 306 ) Indian Resturants in Springfield Gardens, Queens:0\n",
      "( 169 / 306 ) Indian Resturants in Cambria Heights, Queens:0\n",
      "( 170 / 306 ) Indian Resturants in Rosedale, Queens:0\n",
      "( 171 / 306 ) Indian Resturants in Far Rockaway, Queens:0\n",
      "( 172 / 306 ) Indian Resturants in Broad Channel, Queens:0\n",
      "( 173 / 306 ) Indian Resturants in Breezy Point, Queens:0\n",
      "( 174 / 306 ) Indian Resturants in Steinway, Queens:1\n",
      "( 175 / 306 ) Indian Resturants in Beechhurst, Queens:0\n",
      "( 176 / 306 ) Indian Resturants in Bay Terrace, Queens:0\n",
      "( 177 / 306 ) Indian Resturants in Edgemere, Queens:0\n",
      "( 178 / 306 ) Indian Resturants in Arverne, Queens:0\n",
      "( 179 / 306 ) Indian Resturants in Rockaway Beach, Queens:0\n",
      "( 180 / 306 ) Indian Resturants in Neponsit, Queens:0\n",
      "( 181 / 306 ) Indian Resturants in Murray Hill, Queens:0\n",
      "( 182 / 306 ) Indian Resturants in Floral Park, Queens:11\n",
      "( 183 / 306 ) Indian Resturants in Holliswood, Queens:1\n",
      "( 184 / 306 ) Indian Resturants in Jamaica Estates, Queens:2\n",
      "( 185 / 306 ) Indian Resturants in Queensboro Hill, Queens:0\n",
      "( 186 / 306 ) Indian Resturants in Hillcrest, Queens:0\n",
      "( 187 / 306 ) Indian Resturants in Ravenswood, Queens:1\n",
      "( 188 / 306 ) Indian Resturants in Lindenwood, Queens:0\n",
      "( 189 / 306 ) Indian Resturants in Laurelton, Queens:0\n",
      "( 190 / 306 ) Indian Resturants in Lefrak City, Queens:0\n",
      "( 191 / 306 ) Indian Resturants in Belle Harbor, Queens:0\n",
      "( 192 / 306 ) Indian Resturants in Rockaway Park, Queens:0\n",
      "( 193 / 306 ) Indian Resturants in Somerville, Queens:0\n",
      "( 194 / 306 ) Indian Resturants in Brookville, Queens:0\n",
      "( 195 / 306 ) Indian Resturants in Bellaire, Queens:1\n",
      "( 196 / 306 ) Indian Resturants in North Corona, Queens:0\n",
      "( 197 / 306 ) Indian Resturants in Forest Hills Gardens, Queens:0\n",
      "( 198 / 306 ) Indian Resturants in St. George, Staten Island:0\n",
      "( 199 / 306 ) Indian Resturants in New Brighton, Staten Island:1\n",
      "( 200 / 306 ) Indian Resturants in Stapleton, Staten Island:0\n",
      "( 201 / 306 ) Indian Resturants in Rosebank, Staten Island:0\n",
      "( 202 / 306 ) Indian Resturants in West Brighton, Staten Island:0\n",
      "( 203 / 306 ) Indian Resturants in Grymes Hill, Staten Island:0\n",
      "( 204 / 306 ) Indian Resturants in Todt Hill, Staten Island:0\n",
      "( 205 / 306 ) Indian Resturants in South Beach, Staten Island:0\n",
      "( 206 / 306 ) Indian Resturants in Port Richmond, Staten Island:0\n",
      "( 207 / 306 ) Indian Resturants in Mariner's Harbor, Staten Island:0\n",
      "( 208 / 306 ) Indian Resturants in Port Ivory, Staten Island:0\n",
      "( 209 / 306 ) Indian Resturants in Castleton Corners, Staten Island:0\n",
      "( 210 / 306 ) Indian Resturants in New Springville, Staten Island:0\n",
      "( 211 / 306 ) Indian Resturants in Travis, Staten Island:0\n",
      "( 212 / 306 ) Indian Resturants in New Dorp, Staten Island:1\n",
      "( 213 / 306 ) Indian Resturants in Oakwood, Staten Island:0\n",
      "( 214 / 306 ) Indian Resturants in Great Kills, Staten Island:0\n",
      "( 215 / 306 ) Indian Resturants in Eltingville, Staten Island:0\n",
      "( 216 / 306 ) Indian Resturants in Annadale, Staten Island:0\n",
      "( 217 / 306 ) Indian Resturants in Woodrow, Staten Island:0\n",
      "( 218 / 306 ) Indian Resturants in Tottenville, Staten Island:0\n",
      "( 219 / 306 ) Indian Resturants in Tompkinsville, Staten Island:1\n",
      "( 220 / 306 ) Indian Resturants in Silver Lake, Staten Island:0\n",
      "( 221 / 306 ) Indian Resturants in Sunnyside, Staten Island:1\n",
      "( 222 / 306 ) Indian Resturants in Ditmas Park, Brooklyn:3\n",
      "( 223 / 306 ) Indian Resturants in Wingate, Brooklyn:0\n",
      "( 224 / 306 ) Indian Resturants in Rugby, Brooklyn:0\n",
      "( 225 / 306 ) Indian Resturants in Park Hill, Staten Island:1\n",
      "( 226 / 306 ) Indian Resturants in Westerleigh, Staten Island:0\n",
      "( 227 / 306 ) Indian Resturants in Graniteville, Staten Island:0\n",
      "( 228 / 306 ) Indian Resturants in Arlington, Staten Island:0\n",
      "( 229 / 306 ) Indian Resturants in Arrochar, Staten Island:0\n",
      "( 230 / 306 ) Indian Resturants in Grasmere, Staten Island:0\n",
      "( 231 / 306 ) Indian Resturants in Old Town, Staten Island:0\n",
      "( 232 / 306 ) Indian Resturants in Dongan Hills, Staten Island:0\n",
      "( 233 / 306 ) Indian Resturants in Midland Beach, Staten Island:0\n",
      "( 234 / 306 ) Indian Resturants in Grant City, Staten Island:1\n",
      "( 235 / 306 ) Indian Resturants in New Dorp Beach, Staten Island:0\n",
      "( 236 / 306 ) Indian Resturants in Bay Terrace, Staten Island:0\n",
      "( 237 / 306 ) Indian Resturants in Huguenot, Staten Island:0\n",
      "( 238 / 306 ) Indian Resturants in Pleasant Plains, Staten Island:0\n",
      "( 239 / 306 ) Indian Resturants in Butler Manor, Staten Island:0\n",
      "( 240 / 306 ) Indian Resturants in Charleston, Staten Island:0\n",
      "( 241 / 306 ) Indian Resturants in Rossville, Staten Island:0\n",
      "( 242 / 306 ) Indian Resturants in Arden Heights, Staten Island:0\n",
      "( 243 / 306 ) Indian Resturants in Greenridge, Staten Island:0\n",
      "( 244 / 306 ) Indian Resturants in Heartland Village, Staten Island:0\n",
      "( 245 / 306 ) Indian Resturants in Chelsea, Staten Island:0\n",
      "( 246 / 306 ) Indian Resturants in Bloomfield, Staten Island:0\n",
      "( 247 / 306 ) Indian Resturants in Bulls Head, Staten Island:0\n",
      "( 248 / 306 ) Indian Resturants in Carnegie Hill, Manhattan:3\n",
      "( 249 / 306 ) Indian Resturants in Noho, Manhattan:0\n",
      "( 250 / 306 ) Indian Resturants in Civic Center, Manhattan:1\n",
      "( 251 / 306 ) Indian Resturants in Midtown South, Manhattan:1\n",
      "( 252 / 306 ) Indian Resturants in Richmond Town, Staten Island:0\n",
      "( 253 / 306 ) Indian Resturants in Shore Acres, Staten Island:0\n",
      "( 254 / 306 ) Indian Resturants in Clifton, Staten Island:0\n",
      "( 255 / 306 ) Indian Resturants in Concord, Staten Island:1\n",
      "( 256 / 306 ) Indian Resturants in Emerson Hill, Staten Island:1\n",
      "( 257 / 306 ) Indian Resturants in Randall Manor, Staten Island:0\n",
      "( 258 / 306 ) Indian Resturants in Howland Hook, Staten Island:0\n",
      "( 259 / 306 ) Indian Resturants in Elm Park, Staten Island:0\n",
      "( 260 / 306 ) Indian Resturants in Remsen Village, Brooklyn:0\n",
      "( 261 / 306 ) Indian Resturants in New Lots, Brooklyn:0\n",
      "( 262 / 306 ) Indian Resturants in Paerdegat Basin, Brooklyn:0\n",
      "( 263 / 306 ) Indian Resturants in Mill Basin, Brooklyn:0\n",
      "( 264 / 306 ) Indian Resturants in Jamaica Hills, Queens:3\n",
      "( 265 / 306 ) Indian Resturants in Utopia, Queens:0\n",
      "( 266 / 306 ) Indian Resturants in Pomonok, Queens:0\n",
      "( 267 / 306 ) Indian Resturants in Astoria Heights, Queens:0\n",
      "( 268 / 306 ) Indian Resturants in Claremont Village, Bronx:0\n",
      "( 269 / 306 ) Indian Resturants in Concourse Village, Bronx:1\n",
      "( 270 / 306 ) Indian Resturants in Mount Eden, Bronx:0\n",
      "( 271 / 306 ) Indian Resturants in Mount Hope, Bronx:0\n",
      "( 272 / 306 ) Indian Resturants in Sutton Place, Manhattan:3\n",
      "( 273 / 306 ) Indian Resturants in Hunters Point, Queens:0\n",
      "( 274 / 306 ) Indian Resturants in Turtle Bay, Manhattan:3\n",
      "( 275 / 306 ) Indian Resturants in Tudor City, Manhattan:2\n",
      "( 276 / 306 ) Indian Resturants in Stuyvesant Town, Manhattan:0\n",
      "( 277 / 306 ) Indian Resturants in Flatiron, Manhattan:0\n",
      "( 278 / 306 ) Indian Resturants in Sunnyside Gardens, Queens:1\n",
      "( 279 / 306 ) Indian Resturants in Blissville, Queens:1\n",
      "( 280 / 306 ) Indian Resturants in Fulton Ferry, Brooklyn:0\n",
      "( 281 / 306 ) Indian Resturants in Vinegar Hill, Brooklyn:0\n",
      "( 282 / 306 ) Indian Resturants in Weeksville, Brooklyn:0\n",
      "( 283 / 306 ) Indian Resturants in Broadway Junction, Brooklyn:1\n",
      "( 284 / 306 ) Indian Resturants in Dumbo, Brooklyn:0\n",
      "( 285 / 306 ) Indian Resturants in Manor Heights, Staten Island:0\n",
      "( 286 / 306 ) Indian Resturants in Willowbrook, Staten Island:0\n",
      "( 287 / 306 ) Indian Resturants in Sandy Ground, Staten Island:0\n",
      "( 288 / 306 ) Indian Resturants in Egbertville, Staten Island:0\n",
      "( 289 / 306 ) Indian Resturants in Roxbury, Queens:0\n",
      "( 290 / 306 ) Indian Resturants in Homecrest, Brooklyn:0\n",
      "( 291 / 306 ) Indian Resturants in Middle Village, Queens:0\n",
      "( 292 / 306 ) Indian Resturants in Prince's Bay, Staten Island:0\n",
      "( 293 / 306 ) Indian Resturants in Lighthouse Hill, Staten Island:0\n",
      "( 294 / 306 ) Indian Resturants in Richmond Valley, Staten Island:0\n",
      "( 295 / 306 ) Indian Resturants in Malba, Queens:0\n",
      "( 296 / 306 ) Indian Resturants in Highland Park, Brooklyn:0\n",
      "( 297 / 306 ) Indian Resturants in Madison, Brooklyn:0\n",
      "( 298 / 306 ) Indian Resturants in Bronxdale, Bronx:0\n",
      "( 299 / 306 ) Indian Resturants in Allerton, Bronx:0\n",
      "( 300 / 306 ) Indian Resturants in Kingsbridge Heights, Bronx:0\n",
      "( 301 / 306 ) Indian Resturants in Erasmus, Brooklyn:1\n",
      "( 302 / 306 ) Indian Resturants in Hudson Yards, Manhattan:0\n",
      "( 303 / 306 ) Indian Resturants in Hammels, Queens:0\n",
      "( 304 / 306 ) Indian Resturants in Bayswater, Queens:0\n",
      "( 305 / 306 ) Indian Resturants in Queensbridge, Queens:2\n",
      "( 306 / 306 ) Indian Resturants in Fox Hills, Staten Island:1\n"
     ]
    }
   ],
   "source": [
    "# prepare neighborhood list that contains indian resturants\n",
    "column_names=['Borough', 'Neighborhood', 'ID','Name']\n",
    "indian_rest_ny=pd.DataFrame(columns=column_names)\n",
    "count=1\n",
    "for row in new_york_data.values.tolist():\n",
    "    Borough, Neighborhood, Latitude, Longitude=row\n",
    "    venues = get_venues(Latitude,Longitude)\n",
    "    indian_resturants=venues[venues['Category']=='Indian Restaurant']   \n",
    "    print('(',count,'/',len(new_york_data),')','Indian Resturants in '+Neighborhood+', '+Borough+':'+str(len(indian_resturants)))\n",
    "    for resturant_detail in indian_resturants.values.tolist():\n",
    "        id, name , category=resturant_detail\n",
    "        indian_rest_ny = indian_rest_ny.append({'Borough': Borough,\n",
    "                                                'Neighborhood': Neighborhood, \n",
    "                                                'ID': id,\n",
    "                                                'Name' : name\n",
    "                                               }, ignore_index=True)\n",
    "    count+=1"
   ]
  },
  {
   "cell_type": "markdown",
   "metadata": {},
   "source": [
    "Now that we have got all the indian resturants in new york city , we will analyze it."
   ]
  },
  {
   "cell_type": "code",
   "execution_count": 11,
   "metadata": {},
   "outputs": [
    {
     "data": {
      "text/html": [
       "<div>\n",
       "<style scoped>\n",
       "    .dataframe tbody tr th:only-of-type {\n",
       "        vertical-align: middle;\n",
       "    }\n",
       "\n",
       "    .dataframe tbody tr th {\n",
       "        vertical-align: top;\n",
       "    }\n",
       "\n",
       "    .dataframe thead th {\n",
       "        text-align: right;\n",
       "    }\n",
       "</style>\n",
       "<table border=\"1\" class=\"dataframe\">\n",
       "  <thead>\n",
       "    <tr style=\"text-align: right;\">\n",
       "      <th></th>\n",
       "      <th>Borough</th>\n",
       "      <th>Neighborhood</th>\n",
       "      <th>ID</th>\n",
       "      <th>Name</th>\n",
       "    </tr>\n",
       "  </thead>\n",
       "  <tbody>\n",
       "    <tr>\n",
       "      <td>0</td>\n",
       "      <td>Bronx</td>\n",
       "      <td>Woodlawn</td>\n",
       "      <td>4c0448d9310fc9b6bf1dc761</td>\n",
       "      <td>Curry Spot</td>\n",
       "    </tr>\n",
       "    <tr>\n",
       "      <td>1</td>\n",
       "      <td>Bronx</td>\n",
       "      <td>Parkchester</td>\n",
       "      <td>4c194631838020a13e78e561</td>\n",
       "      <td>Melanies Roti Bar And Grill</td>\n",
       "    </tr>\n",
       "    <tr>\n",
       "      <td>2</td>\n",
       "      <td>Bronx</td>\n",
       "      <td>Spuyten Duyvil</td>\n",
       "      <td>4c04544df423a593ac83d116</td>\n",
       "      <td>Cumin Indian Cuisine</td>\n",
       "    </tr>\n",
       "    <tr>\n",
       "      <td>3</td>\n",
       "      <td>Bronx</td>\n",
       "      <td>Concourse</td>\n",
       "      <td>551b7f75498e86c00a0ed2e1</td>\n",
       "      <td>Hungry Bird</td>\n",
       "    </tr>\n",
       "    <tr>\n",
       "      <td>4</td>\n",
       "      <td>Bronx</td>\n",
       "      <td>Unionport</td>\n",
       "      <td>4c194631838020a13e78e561</td>\n",
       "      <td>Melanies Roti Bar And Grill</td>\n",
       "    </tr>\n",
       "  </tbody>\n",
       "</table>\n",
       "</div>"
      ],
      "text/plain": [
       "  Borough    Neighborhood                        ID  \\\n",
       "0   Bronx        Woodlawn  4c0448d9310fc9b6bf1dc761   \n",
       "1   Bronx     Parkchester  4c194631838020a13e78e561   \n",
       "2   Bronx  Spuyten Duyvil  4c04544df423a593ac83d116   \n",
       "3   Bronx       Concourse  551b7f75498e86c00a0ed2e1   \n",
       "4   Bronx       Unionport  4c194631838020a13e78e561   \n",
       "\n",
       "                          Name  \n",
       "0                   Curry Spot  \n",
       "1  Melanies Roti Bar And Grill  \n",
       "2         Cumin Indian Cuisine  \n",
       "3                  Hungry Bird  \n",
       "4  Melanies Roti Bar And Grill  "
      ]
     },
     "execution_count": 11,
     "metadata": {},
     "output_type": "execute_result"
    }
   ],
   "source": [
    "indian_rest_ny.head()"
   ]
  },
  {
   "cell_type": "code",
   "execution_count": 12,
   "metadata": {},
   "outputs": [
    {
     "data": {
      "text/plain": [
       "(151, 4)"
      ]
     },
     "execution_count": 12,
     "metadata": {},
     "output_type": "execute_result"
    }
   ],
   "source": [
    "indian_rest_ny.shape"
   ]
  },
  {
   "cell_type": "markdown",
   "metadata": {},
   "source": [
    "### From the above result, we see that there are 151 Indian Resturants across New York City."
   ]
  },
  {
   "cell_type": "markdown",
   "metadata": {},
   "source": [
    "Now let create a BAR PLOT to show Number of Indian Resturants for each Borough in New York City."
   ]
  },
  {
   "cell_type": "code",
   "execution_count": 13,
   "metadata": {},
   "outputs": [
    {
     "data": {
      "image/png": "[encoded data removed]",
      "text/plain": [
       "<Figure size 900x500 with 1 Axes>"
      ]
     },
     "metadata": {
      "needs_background": "light"
     },
     "output_type": "display_data"
    }
   ],
   "source": [
    "plt.figure(figsize=(9,5), dpi = 100)\n",
    "# title\n",
    "plt.title('Number of Indian Resturants for each Borough in New York City')\n",
    "#On x-axis\n",
    "plt.xlabel('Borough', fontsize = 15)\n",
    "#On y-axis\n",
    "plt.ylabel('No.of Indian Resturants', fontsize=15)\n",
    "#giving a bar plot\n",
    "indian_rest_ny.groupby('Borough')['ID'].count().plot(kind='bar')\n",
    "#legend\n",
    "plt.legend()\n",
    "#displays the plot\n",
    "plt.show()"
   ]
  },
  {
   "cell_type": "markdown",
   "metadata": {},
   "source": [
    "### From the above Bar Plot, we can see that Queens has highest number of Indian resturants."
   ]
  },
  {
   "cell_type": "code",
   "execution_count": 14,
   "metadata": {},
   "outputs": [
    {
     "data": {
      "image/png": "[encoded data removed]",
      "text/plain": [
       "<Figure size 900x500 with 1 Axes>"
      ]
     },
     "metadata": {
      "needs_background": "light"
     },
     "output_type": "display_data"
    }
   ],
   "source": [
    "plt.figure(figsize=(9,5), dpi = 100)\n",
    "# title\n",
    "plt.title('Number of Indian Resturants for each Neighborhood in New York City')\n",
    "#On x-axis\n",
    "plt.xlabel('Neighborhood', fontsize = 15)\n",
    "#On y-axis\n",
    "plt.ylabel('No.of Indian Resturants', fontsize=15)\n",
    "#giving a bar plot\n",
    "indian_rest_ny.groupby('Neighborhood')['ID'].count().nlargest(5).plot(kind='bar')\n",
    "#legend\n",
    "plt.legend()\n",
    "#displays the plot\n",
    "plt.show()"
   ]
  },
  {
   "cell_type": "code",
   "execution_count": 15,
   "metadata": {},
   "outputs": [
    {
     "data": {
      "text/html": [
       "<div>\n",
       "<style scoped>\n",
       "    .dataframe tbody tr th:only-of-type {\n",
       "        vertical-align: middle;\n",
       "    }\n",
       "\n",
       "    .dataframe tbody tr th {\n",
       "        vertical-align: top;\n",
       "    }\n",
       "\n",
       "    .dataframe thead th {\n",
       "        text-align: right;\n",
       "    }\n",
       "</style>\n",
       "<table border=\"1\" class=\"dataframe\">\n",
       "  <thead>\n",
       "    <tr style=\"text-align: right;\">\n",
       "      <th></th>\n",
       "      <th>Borough</th>\n",
       "      <th>Neighborhood</th>\n",
       "      <th>ID</th>\n",
       "      <th>Name</th>\n",
       "    </tr>\n",
       "  </thead>\n",
       "  <tbody>\n",
       "    <tr>\n",
       "      <td>100</td>\n",
       "      <td>Queens</td>\n",
       "      <td>Floral Park</td>\n",
       "      <td>527ffc0811d2d329d5e49abd</td>\n",
       "      <td>Jackson Diner</td>\n",
       "    </tr>\n",
       "    <tr>\n",
       "      <td>101</td>\n",
       "      <td>Queens</td>\n",
       "      <td>Floral Park</td>\n",
       "      <td>4b647b56f964a520c4b62ae3</td>\n",
       "      <td>Usha Foods &amp; Usha Sweets</td>\n",
       "    </tr>\n",
       "    <tr>\n",
       "      <td>102</td>\n",
       "      <td>Queens</td>\n",
       "      <td>Floral Park</td>\n",
       "      <td>4e4e3e22bd4101d0d7a5c2d1</td>\n",
       "      <td>Kerala Kitchen</td>\n",
       "    </tr>\n",
       "    <tr>\n",
       "      <td>103</td>\n",
       "      <td>Queens</td>\n",
       "      <td>Floral Park</td>\n",
       "      <td>4b787c49f964a5209cd12ee3</td>\n",
       "      <td>Santoor Indian Restaurant</td>\n",
       "    </tr>\n",
       "    <tr>\n",
       "      <td>104</td>\n",
       "      <td>Queens</td>\n",
       "      <td>Floral Park</td>\n",
       "      <td>4c0c01e0bbc676b00d6b4cd5</td>\n",
       "      <td>Mumbai Xpress</td>\n",
       "    </tr>\n",
       "    <tr>\n",
       "      <td>105</td>\n",
       "      <td>Queens</td>\n",
       "      <td>Floral Park</td>\n",
       "      <td>4c76ff35a5676dcb72671721</td>\n",
       "      <td>Flavor Of India</td>\n",
       "    </tr>\n",
       "    <tr>\n",
       "      <td>106</td>\n",
       "      <td>Queens</td>\n",
       "      <td>Floral Park</td>\n",
       "      <td>4df0f39dd4c04d0392c853ea</td>\n",
       "      <td>Sagar Chinese</td>\n",
       "    </tr>\n",
       "    <tr>\n",
       "      <td>107</td>\n",
       "      <td>Queens</td>\n",
       "      <td>Floral Park</td>\n",
       "      <td>4c953a7672dd224bd8d1a191</td>\n",
       "      <td>Real Usha Sweets &amp; Snacks Inc.</td>\n",
       "    </tr>\n",
       "    <tr>\n",
       "      <td>108</td>\n",
       "      <td>Queens</td>\n",
       "      <td>Floral Park</td>\n",
       "      <td>4cc642ed306e224b5bf2a76c</td>\n",
       "      <td>Shahi Darbar</td>\n",
       "    </tr>\n",
       "    <tr>\n",
       "      <td>109</td>\n",
       "      <td>Queens</td>\n",
       "      <td>Floral Park</td>\n",
       "      <td>51d84192498ea979a3c4f13d</td>\n",
       "      <td>Sunshine Grill &amp; Restaurant</td>\n",
       "    </tr>\n",
       "    <tr>\n",
       "      <td>110</td>\n",
       "      <td>Queens</td>\n",
       "      <td>Floral Park</td>\n",
       "      <td>4e6bfe1c7d8b2c711b17bbe5</td>\n",
       "      <td>Surya sweets and snacks</td>\n",
       "    </tr>\n",
       "  </tbody>\n",
       "</table>\n",
       "</div>"
      ],
      "text/plain": [
       "    Borough Neighborhood                        ID  \\\n",
       "100  Queens  Floral Park  527ffc0811d2d329d5e49abd   \n",
       "101  Queens  Floral Park  4b647b56f964a520c4b62ae3   \n",
       "102  Queens  Floral Park  4e4e3e22bd4101d0d7a5c2d1   \n",
       "103  Queens  Floral Park  4b787c49f964a5209cd12ee3   \n",
       "104  Queens  Floral Park  4c0c01e0bbc676b00d6b4cd5   \n",
       "105  Queens  Floral Park  4c76ff35a5676dcb72671721   \n",
       "106  Queens  Floral Park  4df0f39dd4c04d0392c853ea   \n",
       "107  Queens  Floral Park  4c953a7672dd224bd8d1a191   \n",
       "108  Queens  Floral Park  4cc642ed306e224b5bf2a76c   \n",
       "109  Queens  Floral Park  51d84192498ea979a3c4f13d   \n",
       "110  Queens  Floral Park  4e6bfe1c7d8b2c711b17bbe5   \n",
       "\n",
       "                               Name  \n",
       "100                   Jackson Diner  \n",
       "101        Usha Foods & Usha Sweets  \n",
       "102                  Kerala Kitchen  \n",
       "103       Santoor Indian Restaurant  \n",
       "104                   Mumbai Xpress  \n",
       "105                 Flavor Of India  \n",
       "106                   Sagar Chinese  \n",
       "107  Real Usha Sweets & Snacks Inc.  \n",
       "108                    Shahi Darbar  \n",
       "109     Sunshine Grill & Restaurant  \n",
       "110         Surya sweets and snacks  "
      ]
     },
     "execution_count": 15,
     "metadata": {},
     "output_type": "execute_result"
    }
   ],
   "source": [
    "indian_rest_ny[indian_rest_ny['Neighborhood']=='Floral Park']"
   ]
  },
  {
   "cell_type": "markdown",
   "metadata": {},
   "source": [
    "### We can see that, Floral Park in Queens has the highest number of Indian Resturants with a total count of 11."
   ]
  },
  {
   "cell_type": "markdown",
   "metadata": {},
   "source": [
    "Now we will get the ranking of each resturant for further analysis."
   ]
  },
  {
   "cell_type": "code",
   "execution_count": 16,
   "metadata": {},
   "outputs": [
    {
     "name": "stdout",
     "output_type": "stream",
     "text": [
      "                         ID        Name  Likes  Rating  Tips\n",
      "0  4c0448d9310fc9b6bf1dc761  Curry Spot      5     7.6    10\n",
      "( 1 / 151 ) processed\n",
      "                         ID                         Name  Likes  Rating  Tips\n",
      "0  4c194631838020a13e78e561  Melanies Roti Bar And Grill      3     5.8     2\n",
      "( 2 / 151 ) processed\n",
      "                         ID                  Name  Likes  Rating  Tips\n",
      "0  4c04544df423a593ac83d116  Cumin Indian Cuisine     13     6.1     9\n",
      "( 3 / 151 ) processed\n",
      "                         ID         Name  Likes  Rating  Tips\n",
      "0  551b7f75498e86c00a0ed2e1  Hungry Bird      8     6.9     3\n",
      "( 4 / 151 ) processed\n",
      "                         ID                         Name  Likes  Rating  Tips\n",
      "0  4c194631838020a13e78e561  Melanies Roti Bar And Grill      3     5.8     2\n",
      "( 5 / 151 ) processed\n",
      "Empty DataFrame\n",
      "Columns: [ID, Name, Likes, Rating, Tips]\n",
      "Index: []\n",
      "No data available for id= 55dfa36a498e164ef19bef7b\n",
      "( 6 / 151 ) processed\n",
      "                         ID       Name  Likes  Rating  Tips\n",
      "0  4b5a4dc8f964a520a2bb28e3  Taj Mahal     38     8.4    26\n",
      "( 7 / 151 ) processed\n",
      "                         ID          Name  Likes  Rating  Tips\n",
      "0  4af0d31bf964a5207ddf21e3  Pak Nasheman      9     7.5     4\n",
      "( 8 / 151 ) processed\n",
      "                         ID          Name  Likes  Rating  Tips\n",
      "0  52213c4211d295d4c57a607c  Ashoka Grill      8     7.0    14\n",
      "( 9 / 151 ) processed\n",
      "                         ID                Name  Likes  Rating  Tips\n",
      "0  564d283d498e6e851df79d87  Great Indian Curry      3     6.8     2\n",
      "( 10 / 151 ) processed\n",
      "                         ID          Name  Likes  Rating  Tips\n",
      "0  512a9ea9e4b004fb8eeb84e5  Silver Krust     12     8.1     3\n",
      "( 11 / 151 ) processed\n",
      "                         ID       Name  Likes  Rating  Tips\n",
      "0  4db0f4371e729fcc56497f20  Mashallah     19     7.5     7\n",
      "( 12 / 151 ) processed\n",
      "                         ID                          Name  Likes  Rating  Tips\n",
      "0  4b718914f964a520c04b2de3  Madina Restaurant and Sweets     17     6.5    12\n",
      "( 13 / 151 ) processed\n",
      "                         ID                       Name  Likes  Rating  Tips\n",
      "0  52f18573498ec2c34e830ffd  Kanan's Indian Restaurant     23     7.7     8\n",
      "( 14 / 151 ) processed\n",
      "                         ID         Name  Likes  Rating  Tips\n",
      "0  57596dad498e732300496b23  Dosa Royale     75     8.7    22\n",
      "( 15 / 151 ) processed\n",
      "                         ID         Name  Likes  Rating  Tips\n",
      "0  57596dad498e732300496b23  Dosa Royale     75     8.7    22\n",
      "( 16 / 151 ) processed\n",
      "                         ID           Name  Likes  Rating  Tips\n",
      "0  568d3902498e619efcbc3f58  Spice & Grill     19     7.6     6\n",
      "( 17 / 151 ) processed\n",
      "                         ID                        Name  Likes  Rating  Tips\n",
      "0  4bb93b70cf2fc9b6fe64a002  Gandhi Fine Indian Cuisine     81     8.5    47\n",
      "( 18 / 151 ) processed\n",
      "                         ID             Name  Likes  Rating  Tips\n",
      "0  4afdf78bf964a520862c22e3  King of Tandoor     25     7.3    23\n",
      "( 19 / 151 ) processed\n",
      "                         ID             Name  Likes  Rating  Tips\n",
      "0  5539753f498edbace4746b67  Tandoori Masala     12     7.7     2\n",
      "( 20 / 151 ) processed\n",
      "                         ID           Name  Likes  Rating  Tips\n",
      "0  4f6cae2ee4b0d4a5afcef5c0  Delhi Heights     22     7.9     8\n",
      "( 21 / 151 ) processed\n",
      "                         ID                     Name  Likes  Rating  Tips\n",
      "0  519ff6c8498e1300ddcbd45c  Anarkali Indian Cuisine     14     7.8     8\n",
      "( 22 / 151 ) processed\n",
      "                         ID       Name  Likes  Rating  Tips\n",
      "0  4db0f4371e729fcc56497f20  Mashallah     19     7.5     7\n",
      "( 23 / 151 ) processed\n",
      "                         ID                Name  Likes  Rating  Tips\n",
      "0  5631511b498e3d6d7e0a4df0  Tikka Indian Grill     95     8.5    29\n",
      "( 24 / 151 ) processed\n",
      "                         ID                Name  Likes  Rating  Tips\n",
      "0  5631511b498e3d6d7e0a4df0  Tikka Indian Grill     95     8.5    29\n",
      "( 25 / 151 ) processed\n",
      "                         ID                      Name  Likes  Rating  Tips\n",
      "0  4ae7876ef964a5201eac21e3  Kismat Indian Restaurant     45     7.7    25\n",
      "( 26 / 151 ) processed\n",
      "                         ID                           Name  Likes  Rating  \\\n",
      "0  54c2bd96498eaf5142e3fe92  Clove Indian Restaurant & Bar     32     7.4   \n",
      "\n",
      "   Tips  \n",
      "0    16  \n",
      "( 27 / 151 ) processed\n",
      "                         ID           Name  Likes  Rating  Tips\n",
      "0  5914ff32b23dfa207eca38de  Mumbai Masala     14     7.3     7\n",
      "( 28 / 151 ) processed\n",
      "                         ID                 Name  Likes  Rating  Tips\n",
      "0  529d382a11d2dd5ef107e641  Chapati House - NYC     73     7.8    18\n",
      "( 29 / 151 ) processed\n",
      "                         ID                           Name  Likes  Rating  \\\n",
      "0  54c2bd96498eaf5142e3fe92  Clove Indian Restaurant & Bar     32     7.4   \n",
      "\n",
      "   Tips  \n",
      "0    16  \n",
      "( 30 / 151 ) processed\n",
      "                         ID          Name  Likes  Rating  Tips\n",
      "0  56d87f3d498ee215abee5724  Delhi Masala     13     8.7     3\n",
      "( 31 / 151 ) processed\n",
      "                         ID                           Name  Likes  Rating  \\\n",
      "0  54c2bd96498eaf5142e3fe92  Clove Indian Restaurant & Bar     32     7.4   \n",
      "\n",
      "   Tips  \n",
      "0    16  \n",
      "( 32 / 151 ) processed\n",
      "                         ID      Name  Likes  Rating  Tips\n",
      "0  519fe6f5498e30595d370c44  Bawarchi      9     7.4     4\n",
      "( 33 / 151 ) processed\n",
      "                         ID            Name  Likes  Rating  Tips\n",
      "0  5272ca4511d22488f6895caf  Drunken Munkey    208     8.6    61\n",
      "( 34 / 151 ) processed\n",
      "                         ID              Name  Likes  Rating  Tips\n",
      "0  4fe4fb50c2eee335e4fea69d  Moti Mahal Delux    185     8.4    82\n",
      "( 35 / 151 ) processed\n",
      "                         ID    Name  Likes  Rating  Tips\n",
      "0  42489a80f964a5208b201fe3  Swagat    105     8.4    38\n",
      "( 36 / 151 ) processed\n",
      "                         ID           Name  Likes  Rating  Tips\n",
      "0  4b0dec08f964a520ae5223e3  Alachi Masala     18     7.7    17\n",
      "( 37 / 151 ) processed\n",
      "                         ID                   Name  Likes  Rating  Tips\n",
      "0  49d91c12f964a520015e1fe3  The Kati Roll Company    837     8.8   260\n",
      "( 38 / 151 ) processed\n",
      "                         ID                   Name  Likes  Rating  Tips\n",
      "0  59fcd48c464d6567ed2f5e37  The Kati Roll Company     18     8.6     2\n",
      "( 39 / 151 ) processed\n",
      "                         ID               Name  Likes  Rating  Tips\n",
      "0  4b4aab62f964a520978c26e3  Dil-e Punjab Deli    106     8.7    43\n",
      "( 40 / 151 ) processed\n",
      "                         ID              Name  Likes  Rating  Tips\n",
      "0  4bbb9dbded7776b0e1ad3e51  Tamarind TriBeCa    589     9.1   146\n",
      "( 41 / 151 ) processed\n",
      "                         ID                Name  Likes  Rating  Tips\n",
      "0  5b5a2c9e66f3cd002ca0aab5  The Drunken Munkey     26     8.8     4\n",
      "( 42 / 151 ) processed\n",
      "                         ID  Name  Likes  Rating  Tips\n",
      "0  591794df2be42556988e4a8e  Rahi    106     8.8    19\n",
      "( 43 / 151 ) processed\n",
      "                         ID        Name  Likes  Rating  Tips\n",
      "0  4d24b812836f5481518645f7  Doaba Deli     41     7.5    13\n",
      "( 44 / 151 ) processed\n",
      "                         ID              Name  Likes  Rating  Tips\n",
      "0  424de080f964a520ae201fe3  Manhattan Valley     42     7.9    30\n",
      "( 45 / 151 ) processed\n",
      "                         ID   Name  Likes  Rating  Tips\n",
      "0  538ba1f2498e279098e4210a  Awadh     51     8.0    13\n",
      "( 46 / 151 ) processed\n",
      "                         ID       Name  Likes  Rating  Tips\n",
      "0  49c5ad0af964a5201b571fe3  Roti Roll    114     7.9    58\n",
      "( 47 / 151 ) processed\n",
      "                         ID    Name  Likes  Rating  Tips\n",
      "0  4ad12c9df964a52040dd20e3  Aangan     35     7.4    14\n",
      "( 48 / 151 ) processed\n",
      "                         ID       Name  Likes  Rating  Tips\n",
      "0  49c5ad0af964a5201b571fe3  Roti Roll    114     7.9    58\n",
      "( 49 / 151 ) processed\n",
      "                         ID                 Name  Likes  Rating  Tips\n",
      "0  4a70a75bf964a52016d81fe3  Bhatti Indian Grill    416     8.7   159\n",
      "( 50 / 151 ) processed\n",
      "                         ID   Name  Likes  Rating  Tips\n",
      "0  57f7cbbe498edf8f07c7ba83  Sahib     59     8.8    13\n",
      "( 51 / 151 ) processed\n",
      "                         ID     Name  Likes  Rating  Tips\n",
      "0  523b2b42498e1dfabcc8ab15  Pippali    303     8.7    77\n",
      "( 52 / 151 ) processed\n",
      "                         ID                 Name  Likes  Rating  Tips\n",
      "0  4aa56c81f964a5204e4820e3  Seva Indian Cuisine    238     9.0   131\n",
      "( 53 / 151 ) processed\n",
      "                         ID            Name  Likes  Rating  Tips\n",
      "0  4afdcf29f964a520162b22e3  Rajbhog Sweets     37     8.4    24\n",
      "( 54 / 151 ) processed\n",
      "                         ID      Name  Likes  Rating  Tips\n",
      "0  4c7060e734443704ca0e245f  Kababish     30     7.7    17\n",
      "( 55 / 151 ) processed\n",
      "                         ID                      Name  Likes  Rating  Tips\n",
      "0  4b998d3ff964a520fc8235e3  Maharaja Sweets & Snacks     52     8.1    24\n",
      "( 56 / 151 ) processed\n",
      "                         ID                     Name  Likes  Rating  Tips\n",
      "0  5da4fbf091a08400078be19d  Angel Indian Restaurant      3     8.1     1\n",
      "( 57 / 151 ) processed\n",
      "                         ID           Name  Likes  Rating  Tips\n",
      "0  3fd66200f964a52009f11ee3  Jackson Diner    141     7.9    77\n",
      "( 58 / 151 ) processed\n",
      "                         ID           Name  Likes  Rating  Tips\n",
      "0  49ebb18ff964a52016671fe3  Delhi Heights     34     7.9    22\n",
      "( 59 / 151 ) processed\n",
      "                         ID  Name  Likes  Rating  Tips\n",
      "0  4b189424f964a52043d423e3  Dera     47     7.4    19\n",
      "( 60 / 151 ) processed\n",
      "                         ID                         Name  Likes  Rating  Tips\n",
      "0  4e334b7bb0fb17f64f81a8b2  Premium Sweets & Restaurant     11     7.4     5\n",
      "( 61 / 151 ) processed\n",
      "                         ID     Name  Likes  Rating  Tips\n",
      "0  527d9cbc498edf0db10bde6b  Samudra     48     8.5    16\n",
      "( 62 / 151 ) processed\n",
      "                         ID            Name  Likes  Rating  Tips\n",
      "0  4afdcf29f964a520162b22e3  Rajbhog Sweets     37     8.4    24\n",
      "( 63 / 151 ) processed\n",
      "                         ID                      Name  Likes  Rating  Tips\n",
      "0  4b998d3ff964a520fc8235e3  Maharaja Sweets & Snacks     52     8.1    24\n",
      "( 64 / 151 ) processed\n",
      "                         ID                     Name  Likes  Rating  Tips\n",
      "0  5da4fbf091a08400078be19d  Angel Indian Restaurant      3     8.1     1\n",
      "( 65 / 151 ) processed\n",
      "                         ID           Name  Likes  Rating  Tips\n",
      "0  3fd66200f964a52009f11ee3  Jackson Diner    141     7.9    77\n",
      "( 66 / 151 ) processed\n",
      "                         ID           Name  Likes  Rating  Tips\n",
      "0  49ebb18ff964a52016671fe3  Delhi Heights     34     7.9    22\n",
      "( 67 / 151 ) processed\n",
      "                         ID     Name  Likes  Rating  Tips\n",
      "0  527d9cbc498edf0db10bde6b  Samudra     48     8.5    16\n",
      "( 68 / 151 ) processed\n",
      "                         ID                     Name  Likes  Rating  Tips\n",
      "0  5da4fbf091a08400078be19d  Angel Indian Restaurant      3     8.1     1\n",
      "( 69 / 151 ) processed\n",
      "                         ID                Name  Likes  Rating  Tips\n",
      "0  5782c9ce498edde587f5aa14  Tikka Indian Grill     10     7.8     2\n",
      "( 70 / 151 ) processed\n",
      "                         ID                   Name  Likes  Rating  Tips\n",
      "0  4bbe78bfba9776b070cefdc8  Mehak Mughlai Cuisine      8     7.7    10\n",
      "( 71 / 151 ) processed\n",
      "                         ID          Name  Likes  Rating  Tips\n",
      "0  4b522029f964a520f26927e3  Sohna Punjab      8     7.7     2\n",
      "( 72 / 151 ) processed\n",
      "                         ID                Name  Likes  Rating  Tips\n",
      "0  5782c9ce498edde587f5aa14  Tikka Indian Grill     10     7.8     2\n",
      "( 73 / 151 ) processed\n",
      "                         ID        Name  Likes  Rating  Tips\n",
      "0  4f1b77d7e4b044fd359e6d21  India Cafe      6     7.1     3\n",
      "( 74 / 151 ) processed\n",
      "                         ID                 Name  Likes  Rating  Tips\n",
      "0  4adbaef0f964a520ff2921e3  Punjabi Kabab House      7     6.0     7\n",
      "( 75 / 151 ) processed\n",
      "                         ID                Name  Likes  Rating  Tips\n",
      "0  4babc24ef964a5200ac73ae3  Royal India Palace      7     5.9     3\n",
      "( 76 / 151 ) processed\n",
      "                         ID          Name  Likes  Rating  Tips\n",
      "0  4bb2bc48a32876b02e0b01fe  Tandoori Hut      6     5.9    15\n",
      "( 77 / 151 ) processed\n",
      "                         ID  Name  Likes  Rating  Tips\n",
      "0  5b931ea69d7468002c3b1382  Adda    113     9.0    34\n",
      "( 78 / 151 ) processed\n",
      "                         ID                  Name  Likes  Rating  Tips\n",
      "0  50a287a7e4b0033f830f06db  Raj's Indian Kitchen     22     7.3     9\n",
      "( 79 / 151 ) processed\n",
      "                         ID  Name  Likes  Rating  Tips\n",
      "0  5b931ea69d7468002c3b1382  Adda    113     9.0    34\n",
      "( 80 / 151 ) processed\n",
      "                         ID                        Name  Likes  Rating  Tips\n",
      "0  50e1c9708aca7ff2b3e50353  Nepalese Indian Restaurant     55     8.3    18\n",
      "( 81 / 151 ) processed\n",
      "                         ID               Name  Likes  Rating  Tips\n",
      "0  5625af69498ebbc62b61a382  Aaheli Restaurant     12     7.8     6\n",
      "( 82 / 151 ) processed\n",
      "Empty DataFrame\n",
      "Columns: [ID, Name, Likes, Rating, Tips]\n",
      "Index: []\n",
      "No data available for id= 572d7c21498e098658a0edd7\n",
      "( 83 / 151 ) processed\n",
      "                         ID                         Name  Likes  Rating  Tips\n",
      "0  4f1f4996e4b01ff351a7a50c  Ayna Agra Indian Restaurant     39     8.2    12\n",
      "( 84 / 151 ) processed\n",
      "                         ID        Name  Likes  Rating  Tips\n",
      "0  539a4ff0498e79c6745baba9  Masala Box      9     8.0     2\n",
      "( 85 / 151 ) processed\n",
      "                         ID       Name  Likes  Rating  Tips\n",
      "0  539e27b0498e2eba582085ee  masalabox      7     6.5     2\n",
      "( 86 / 151 ) processed\n",
      "                         ID                       Name  Likes  Rating  Tips\n",
      "0  4b787c49f964a5209cd12ee3  Santoor Indian Restaurant     37     7.6    18\n",
      "( 87 / 151 ) processed\n",
      "                         ID             Name  Likes  Rating  Tips\n",
      "0  4b9030abf964a520397b33e3  Taste of Cochin      9     6.9     4\n",
      "( 88 / 151 ) processed\n",
      "                         ID           Name  Likes  Rating  Tips\n",
      "0  4df0f39dd4c04d0392c853ea  Sagar Chinese      7     6.0     6\n",
      "( 89 / 151 ) processed\n",
      "                         ID          Name  Likes  Rating  Tips\n",
      "0  4c0e256ab1b676b06589e186  Sohna Punjab      3     5.9     3\n",
      "( 90 / 151 ) processed\n",
      "Empty DataFrame\n",
      "Columns: [ID, Name, Likes, Rating, Tips]\n",
      "Index: []\n",
      "No data available for id= 4e6bfe1c7d8b2c711b17bbe5\n",
      "( 91 / 151 ) processed\n",
      "Empty DataFrame\n",
      "Columns: [ID, Name, Likes, Rating, Tips]\n",
      "Index: []\n",
      "No data available for id= 4dc0aaedae606fe8b71c226b\n",
      "( 92 / 151 ) processed\n",
      "Empty DataFrame\n",
      "Columns: [ID, Name, Likes, Rating, Tips]\n",
      "Index: []\n",
      "No data available for id= 4b96926df964a520abd534e3\n",
      "( 93 / 151 ) processed\n",
      "                         ID          Name  Likes  Rating  Tips\n",
      "0  4bad49a0f964a52041423be3  Annam Brahma     15     8.0     3\n",
      "( 94 / 151 ) processed\n",
      "                         ID                               Name  Likes  Rating  \\\n",
      "0  4be334312fc7d13a7a81083a  Taj Mahal Restaurant & Party Hall     24     7.4   \n",
      "\n",
      "   Tips  \n",
      "0     5  \n",
      "( 95 / 151 ) processed\n",
      "                         ID            Name  Likes  Rating  Tips\n",
      "0  4cc08b0900d83704ed474b5c  Sybil's Bakery      8     7.2     3\n",
      "( 96 / 151 ) processed\n",
      "                         ID              Name  Likes  Rating  Tips\n",
      "0  4c434b2bd691c9b6ef8f8f0a  Sagar Restaurant     10     7.5     6\n",
      "( 97 / 151 ) processed\n",
      "                         ID          Name  Likes  Rating  Tips\n",
      "0  4bad49a0f964a52041423be3  Annam Brahma     15     8.0     3\n",
      "( 98 / 151 ) processed\n",
      "                         ID            Name  Likes  Rating  Tips\n",
      "0  4cc08b0900d83704ed474b5c  Sybil's Bakery      8     7.2     3\n",
      "( 99 / 151 ) processed\n",
      "                         ID                    Name  Likes  Rating  Tips\n",
      "0  562035d9498e2abb4137c2c7  Yaar Indian Restaurant     31     8.6     7\n",
      "( 100 / 151 ) processed\n",
      "                         ID           Name  Likes  Rating  Tips\n",
      "0  527ffc0811d2d329d5e49abd  Jackson Diner      9     8.0     3\n",
      "( 101 / 151 ) processed\n",
      "                         ID                      Name  Likes  Rating  Tips\n",
      "0  4b647b56f964a520c4b62ae3  Usha Foods & Usha Sweets     33     7.9    10\n",
      "( 102 / 151 ) processed\n",
      "                         ID            Name  Likes  Rating  Tips\n",
      "0  4e4e3e22bd4101d0d7a5c2d1  Kerala Kitchen      5     8.0     6\n",
      "( 103 / 151 ) processed\n",
      "                         ID                       Name  Likes  Rating  Tips\n",
      "0  4b787c49f964a5209cd12ee3  Santoor Indian Restaurant     37     7.6    18\n",
      "( 104 / 151 ) processed\n",
      "                         ID           Name  Likes  Rating  Tips\n",
      "0  4c0c01e0bbc676b00d6b4cd5  Mumbai Xpress     16     6.6    18\n",
      "( 105 / 151 ) processed\n",
      "                         ID             Name  Likes  Rating  Tips\n",
      "0  4c76ff35a5676dcb72671721  Flavor Of India      6     6.1     6\n",
      "( 106 / 151 ) processed\n",
      "                         ID           Name  Likes  Rating  Tips\n",
      "0  4df0f39dd4c04d0392c853ea  Sagar Chinese      7     6.0     6\n",
      "( 107 / 151 ) processed\n",
      "Empty DataFrame\n",
      "Columns: [ID, Name, Likes, Rating, Tips]\n",
      "Index: []\n",
      "No data available for id= 4c953a7672dd224bd8d1a191\n",
      "( 108 / 151 ) processed\n",
      "Empty DataFrame\n",
      "Columns: [ID, Name, Likes, Rating, Tips]\n",
      "Index: []\n",
      "No data available for id= 4cc642ed306e224b5bf2a76c\n",
      "( 109 / 151 ) processed\n",
      "Empty DataFrame\n",
      "Columns: [ID, Name, Likes, Rating, Tips]\n",
      "Index: []\n",
      "No data available for id= 51d84192498ea979a3c4f13d\n",
      "( 110 / 151 ) processed\n",
      "Empty DataFrame\n",
      "Columns: [ID, Name, Likes, Rating, Tips]\n",
      "Index: []\n",
      "No data available for id= 4e6bfe1c7d8b2c711b17bbe5\n",
      "( 111 / 151 ) processed\n",
      "                         ID                        Name  Likes  Rating  Tips\n",
      "0  4f580c1be4b0bdfd0e7e8102  Rajdhani Indian Restaurant     13     8.3     6\n",
      "( 112 / 151 ) processed\n",
      "                         ID              Name  Likes  Rating  Tips\n",
      "0  4c434b2bd691c9b6ef8f8f0a  Sagar Restaurant     10     7.5     6\n",
      "( 113 / 151 ) processed\n",
      "Empty DataFrame\n",
      "Columns: [ID, Name, Likes, Rating, Tips]\n",
      "Index: []\n",
      "No data available for id= 4b8d5734f964a520b1f532e3\n",
      "( 114 / 151 ) processed\n",
      "                         ID                  Name  Likes  Rating  Tips\n",
      "0  5623f6f9498e5a44a08bfae8  Boishakhi Restaurant     17     7.9     7\n",
      "( 115 / 151 ) processed\n",
      "Empty DataFrame\n",
      "Columns: [ID, Name, Likes, Rating, Tips]\n",
      "Index: []\n",
      "No data available for id= 4dc0aaedae606fe8b71c226b\n",
      "( 116 / 151 ) processed\n",
      "                         ID         Name  Likes  Rating  Tips\n",
      "0  4b9be038f964a520393036e3  Dosa Garden     18     7.8    17\n",
      "( 117 / 151 ) processed\n",
      "                         ID               Name  Likes  Rating  Tips\n",
      "0  4be74a502468c928505a0243  Taste Of India II     29     8.1    14\n",
      "( 118 / 151 ) processed\n",
      "                         ID         Name  Likes  Rating  Tips\n",
      "0  4b9be038f964a520393036e3  Dosa Garden     18     7.8    17\n",
      "( 119 / 151 ) processed\n",
      "Empty DataFrame\n",
      "Columns: [ID, Name, Likes, Rating, Tips]\n",
      "Index: []\n",
      "No data available for id= 4b65f2e3f964a5206e0a2be3\n",
      "( 120 / 151 ) processed\n",
      "                         ID                     Name  Likes  Rating  Tips\n",
      "0  519ff6c8498e1300ddcbd45c  Anarkali Indian Cuisine     14     7.8     8\n",
      "( 121 / 151 ) processed\n",
      "                         ID       Name  Likes  Rating  Tips\n",
      "0  4db0f4371e729fcc56497f20  Mashallah     19     7.5     7\n",
      "( 122 / 151 ) processed\n",
      "                         ID                Name  Likes  Rating  Tips\n",
      "0  564d283d498e6e851df79d87  Great Indian Curry      3     6.8     2\n",
      "( 123 / 151 ) processed\n",
      "Empty DataFrame\n",
      "Columns: [ID, Name, Likes, Rating, Tips]\n",
      "Index: []\n",
      "No data available for id= 4b65f2e3f964a5206e0a2be3\n",
      "( 124 / 151 ) processed\n",
      "                         ID               Name  Likes  Rating  Tips\n",
      "0  4be74a502468c928505a0243  Taste Of India II     29     8.1    14\n",
      "( 125 / 151 ) processed\n",
      "                         ID            Name  Likes  Rating  Tips\n",
      "0  5272ca4511d22488f6895caf  Drunken Munkey    208     8.6    61\n",
      "( 126 / 151 ) processed\n",
      "                         ID                    Name  Likes  Rating  Tips\n",
      "0  56ed855a498ef3bb022352c3  Mughlai Indian Cuisine     26     7.8     9\n",
      "( 127 / 151 ) processed\n",
      "                         ID              Name  Likes  Rating  Tips\n",
      "0  5b0c8e2d2f97ec002c67a428  Ashoka Fine Dine      9     7.8     5\n",
      "( 128 / 151 ) processed\n",
      "                         ID              Name  Likes  Rating  Tips\n",
      "0  4bbb9dbded7776b0e1ad3e51  Tamarind TriBeCa    589     9.1   146\n",
      "( 129 / 151 ) processed\n",
      "                         ID                   Name  Likes  Rating  Tips\n",
      "0  49d91c12f964a520015e1fe3  The Kati Roll Company    837     8.8   260\n",
      "( 130 / 151 ) processed\n",
      "Empty DataFrame\n",
      "Columns: [ID, Name, Likes, Rating, Tips]\n",
      "Index: []\n",
      "No data available for id= 4b65f2e3f964a5206e0a2be3\n",
      "( 131 / 151 ) processed\n",
      "Empty DataFrame\n",
      "Columns: [ID, Name, Likes, Rating, Tips]\n",
      "Index: []\n",
      "No data available for id= 4b65f2e3f964a5206e0a2be3\n",
      "( 132 / 151 ) processed\n",
      "                         ID          Name  Likes  Rating  Tips\n",
      "0  4bad49a0f964a52041423be3  Annam Brahma     15     8.0     3\n",
      "( 133 / 151 ) processed\n",
      "                         ID              Name  Likes  Rating  Tips\n",
      "0  4c434b2bd691c9b6ef8f8f0a  Sagar Restaurant     10     7.5     6\n",
      "( 134 / 151 ) processed\n",
      "                         ID            Name  Likes  Rating  Tips\n",
      "0  4cc08b0900d83704ed474b5c  Sybil's Bakery      8     7.2     3\n",
      "( 135 / 151 ) processed\n",
      "                         ID         Name  Likes  Rating  Tips\n",
      "0  551b7f75498e86c00a0ed2e1  Hungry Bird      8     6.9     3\n",
      "( 136 / 151 ) processed\n",
      "                         ID                           Name  Likes  Rating  \\\n",
      "0  4a63bfb4f964a520b3c51fe3  Chola Eclectic Indian Cuisine    153     8.3   \n",
      "\n",
      "   Tips  \n",
      "0    56  \n",
      "( 137 / 151 ) processed\n",
      "                         ID              Name  Likes  Rating  Tips\n",
      "0  4fe4fb50c2eee335e4fea69d  Moti Mahal Delux    185     8.4    82\n",
      "( 138 / 151 ) processed\n",
      "                         ID                   Name  Likes  Rating  Tips\n",
      "0  4f57f98fe4b0bd50f6bb8b31  The Kati Roll Company    182     8.2    55\n",
      "( 139 / 151 ) processed\n",
      "                         ID                   Name  Likes  Rating  Tips\n",
      "0  59fcd48c464d6567ed2f5e37  The Kati Roll Company     18     8.6     2\n",
      "( 140 / 151 ) processed\n",
      "                         ID   Name  Likes  Rating  Tips\n",
      "0  5ac3984ae57ca64be4dc6168  INDAY     33     8.1     9\n",
      "( 141 / 151 ) processed\n",
      "                         ID                   Name  Likes  Rating  Tips\n",
      "0  4f57f98fe4b0bd50f6bb8b31  The Kati Roll Company    182     8.2    55\n",
      "( 142 / 151 ) processed\n",
      "                         ID                   Name  Likes  Rating  Tips\n",
      "0  59fcd48c464d6567ed2f5e37  The Kati Roll Company     18     8.6     2\n",
      "( 143 / 151 ) processed\n",
      "                         ID   Name  Likes  Rating  Tips\n",
      "0  5ac3984ae57ca64be4dc6168  INDAY     33     8.1     9\n",
      "( 144 / 151 ) processed\n",
      "                         ID            Name  Likes  Rating  Tips\n",
      "0  4c48da9f3013a59356c5f0e1  Saffron Garden     17     7.5    16\n",
      "( 145 / 151 ) processed\n",
      "                         ID  Name  Likes  Rating  Tips\n",
      "0  5b931ea69d7468002c3b1382  Adda    113     9.0    34\n",
      "( 146 / 151 ) processed\n",
      "                         ID             Name  Likes  Rating  Tips\n",
      "0  5539753f498edbace4746b67  Tandoori Masala     12     7.7     2\n",
      "( 147 / 151 ) processed\n",
      "                         ID                Name  Likes  Rating  Tips\n",
      "0  564d283d498e6e851df79d87  Great Indian Curry      3     6.8     2\n",
      "( 148 / 151 ) processed\n",
      "                         ID               Name  Likes  Rating  Tips\n",
      "0  4b1b341bf964a5208af923e3  Five Star Banquet     30     7.1    31\n",
      "( 149 / 151 ) processed\n",
      "                         ID                  Name  Likes  Rating  Tips\n",
      "0  50a287a7e4b0033f830f06db  Raj's Indian Kitchen     22     7.3     9\n",
      "( 150 / 151 ) processed\n",
      "Empty DataFrame\n",
      "Columns: [ID, Name, Likes, Rating, Tips]\n",
      "Index: []\n",
      "No data available for id= 4b65f2e3f964a5206e0a2be3\n",
      "( 151 / 151 ) processed\n"
     ]
    }
   ],
   "source": [
    "# prepare neighborhood list that contains indian resturants\n",
    "column_names=['Borough', 'Neighborhood', 'ID','Name','Likes','Rating','Tips']\n",
    "indian_rest_stats_ny=pd.DataFrame(columns=column_names)\n",
    "count=1\n",
    "\n",
    "\n",
    "for row in indian_rest_ny.values.tolist():\n",
    "    Borough,Neighborhood,ID,Name=row\n",
    "    try:\n",
    "        venue_details=get_venue_details(ID)\n",
    "        print(venue_details)\n",
    "        id,name,likes,rating,tips=venue_details.values.tolist()[0]\n",
    "    except IndexError:\n",
    "        print('No data available for id=',ID)\n",
    "        # we will assign 0 value for these resturants as they may have been \n",
    "        #recently opened or details does not exist in FourSquare Database\n",
    "        id,name,likes,rating,tips=[0]*5\n",
    "    print('(',count,'/',len(indian_rest_ny),')','processed')\n",
    "    indian_rest_stats_ny = indian_rest_stats_ny.append({'Borough': Borough,\n",
    "                                                'Neighborhood': Neighborhood, \n",
    "                                                'ID': id,\n",
    "                                                'Name' : name,\n",
    "                                                'Likes' : likes,\n",
    "                                                'Rating' : rating,\n",
    "                                                'Tips' : tips\n",
    "                                               }, ignore_index=True)\n",
    "    count+=1"
   ]
  },
  {
   "cell_type": "code",
   "execution_count": 18,
   "metadata": {},
   "outputs": [
    {
     "data": {
      "text/html": [
       "<div>\n",
       "<style scoped>\n",
       "    .dataframe tbody tr th:only-of-type {\n",
       "        vertical-align: middle;\n",
       "    }\n",
       "\n",
       "    .dataframe tbody tr th {\n",
       "        vertical-align: top;\n",
       "    }\n",
       "\n",
       "    .dataframe thead th {\n",
       "        text-align: right;\n",
       "    }\n",
       "</style>\n",
       "<table border=\"1\" class=\"dataframe\">\n",
       "  <thead>\n",
       "    <tr style=\"text-align: right;\">\n",
       "      <th></th>\n",
       "      <th>Borough</th>\n",
       "      <th>Neighborhood</th>\n",
       "      <th>ID</th>\n",
       "      <th>Name</th>\n",
       "      <th>Likes</th>\n",
       "      <th>Rating</th>\n",
       "      <th>Tips</th>\n",
       "    </tr>\n",
       "  </thead>\n",
       "  <tbody>\n",
       "    <tr>\n",
       "      <td>0</td>\n",
       "      <td>Bronx</td>\n",
       "      <td>Woodlawn</td>\n",
       "      <td>4c0448d9310fc9b6bf1dc761</td>\n",
       "      <td>Curry Spot</td>\n",
       "      <td>5</td>\n",
       "      <td>7.6</td>\n",
       "      <td>10</td>\n",
       "    </tr>\n",
       "    <tr>\n",
       "      <td>1</td>\n",
       "      <td>Bronx</td>\n",
       "      <td>Parkchester</td>\n",
       "      <td>4c194631838020a13e78e561</td>\n",
       "      <td>Melanies Roti Bar And Grill</td>\n",
       "      <td>3</td>\n",
       "      <td>5.8</td>\n",
       "      <td>2</td>\n",
       "    </tr>\n",
       "    <tr>\n",
       "      <td>2</td>\n",
       "      <td>Bronx</td>\n",
       "      <td>Spuyten Duyvil</td>\n",
       "      <td>4c04544df423a593ac83d116</td>\n",
       "      <td>Cumin Indian Cuisine</td>\n",
       "      <td>13</td>\n",
       "      <td>6.1</td>\n",
       "      <td>9</td>\n",
       "    </tr>\n",
       "    <tr>\n",
       "      <td>3</td>\n",
       "      <td>Bronx</td>\n",
       "      <td>Concourse</td>\n",
       "      <td>551b7f75498e86c00a0ed2e1</td>\n",
       "      <td>Hungry Bird</td>\n",
       "      <td>8</td>\n",
       "      <td>6.9</td>\n",
       "      <td>3</td>\n",
       "    </tr>\n",
       "    <tr>\n",
       "      <td>4</td>\n",
       "      <td>Bronx</td>\n",
       "      <td>Unionport</td>\n",
       "      <td>4c194631838020a13e78e561</td>\n",
       "      <td>Melanies Roti Bar And Grill</td>\n",
       "      <td>3</td>\n",
       "      <td>5.8</td>\n",
       "      <td>2</td>\n",
       "    </tr>\n",
       "  </tbody>\n",
       "</table>\n",
       "</div>"
      ],
      "text/plain": [
       "  Borough    Neighborhood                        ID  \\\n",
       "0   Bronx        Woodlawn  4c0448d9310fc9b6bf1dc761   \n",
       "1   Bronx     Parkchester  4c194631838020a13e78e561   \n",
       "2   Bronx  Spuyten Duyvil  4c04544df423a593ac83d116   \n",
       "3   Bronx       Concourse  551b7f75498e86c00a0ed2e1   \n",
       "4   Bronx       Unionport  4c194631838020a13e78e561   \n",
       "\n",
       "                          Name Likes  Rating Tips  \n",
       "0                   Curry Spot     5     7.6   10  \n",
       "1  Melanies Roti Bar And Grill     3     5.8    2  \n",
       "2         Cumin Indian Cuisine    13     6.1    9  \n",
       "3                  Hungry Bird     8     6.9    3  \n",
       "4  Melanies Roti Bar And Grill     3     5.8    2  "
      ]
     },
     "execution_count": 18,
     "metadata": {},
     "output_type": "execute_result"
    }
   ],
   "source": [
    "indian_rest_stats_ny.head()"
   ]
  },
  {
   "cell_type": "code",
   "execution_count": 19,
   "metadata": {},
   "outputs": [
    {
     "data": {
      "text/plain": [
       "(151, 7)"
      ]
     },
     "execution_count": 19,
     "metadata": {},
     "output_type": "execute_result"
    }
   ],
   "source": [
    "indian_rest_stats_ny.shape"
   ]
  },
  {
   "cell_type": "code",
   "execution_count": 20,
   "metadata": {},
   "outputs": [
    {
     "data": {
      "text/plain": [
       "(151, 4)"
      ]
     },
     "execution_count": 20,
     "metadata": {},
     "output_type": "execute_result"
    }
   ],
   "source": [
    "indian_rest_ny.shape"
   ]
  },
  {
   "cell_type": "markdown",
   "metadata": {},
   "source": [
    "Now that we got data for all resturants Now lets save this data to a csv sheet. In case we by mistake modify it. As the number of calls to get details for venue are premium call and have limit of 500 per day, we will refer to saved data sheet csv if required."
   ]
  },
  {
   "cell_type": "code",
   "execution_count": 21,
   "metadata": {},
   "outputs": [],
   "source": [
    "indian_rest_stats_ny.to_csv('indian_rest_stats_ny.csv', index=False)"
   ]
  },
  {
   "cell_type": "markdown",
   "metadata": {},
   "source": [
    "Lets verify the data from saved csv file."
   ]
  },
  {
   "cell_type": "code",
   "execution_count": 22,
   "metadata": {},
   "outputs": [],
   "source": [
    "indian_rest_stats_ny_csv=pd.read_csv('indian_rest_stats_ny.csv')"
   ]
  },
  {
   "cell_type": "code",
   "execution_count": 23,
   "metadata": {},
   "outputs": [
    {
     "data": {
      "text/plain": [
       "(151, 7)"
      ]
     },
     "execution_count": 23,
     "metadata": {},
     "output_type": "execute_result"
    }
   ],
   "source": [
    "indian_rest_stats_ny_csv.shape"
   ]
  },
  {
   "cell_type": "code",
   "execution_count": 24,
   "metadata": {},
   "outputs": [
    {
     "data": {
      "text/html": [
       "<div>\n",
       "<style scoped>\n",
       "    .dataframe tbody tr th:only-of-type {\n",
       "        vertical-align: middle;\n",
       "    }\n",
       "\n",
       "    .dataframe tbody tr th {\n",
       "        vertical-align: top;\n",
       "    }\n",
       "\n",
       "    .dataframe thead th {\n",
       "        text-align: right;\n",
       "    }\n",
       "</style>\n",
       "<table border=\"1\" class=\"dataframe\">\n",
       "  <thead>\n",
       "    <tr style=\"text-align: right;\">\n",
       "      <th></th>\n",
       "      <th>Borough</th>\n",
       "      <th>Neighborhood</th>\n",
       "      <th>ID</th>\n",
       "      <th>Name</th>\n",
       "      <th>Likes</th>\n",
       "      <th>Rating</th>\n",
       "      <th>Tips</th>\n",
       "    </tr>\n",
       "  </thead>\n",
       "  <tbody>\n",
       "    <tr>\n",
       "      <td>0</td>\n",
       "      <td>Bronx</td>\n",
       "      <td>Woodlawn</td>\n",
       "      <td>4c0448d9310fc9b6bf1dc761</td>\n",
       "      <td>Curry Spot</td>\n",
       "      <td>5</td>\n",
       "      <td>7.6</td>\n",
       "      <td>10</td>\n",
       "    </tr>\n",
       "    <tr>\n",
       "      <td>1</td>\n",
       "      <td>Bronx</td>\n",
       "      <td>Parkchester</td>\n",
       "      <td>4c194631838020a13e78e561</td>\n",
       "      <td>Melanies Roti Bar And Grill</td>\n",
       "      <td>3</td>\n",
       "      <td>5.8</td>\n",
       "      <td>2</td>\n",
       "    </tr>\n",
       "    <tr>\n",
       "      <td>2</td>\n",
       "      <td>Bronx</td>\n",
       "      <td>Spuyten Duyvil</td>\n",
       "      <td>4c04544df423a593ac83d116</td>\n",
       "      <td>Cumin Indian Cuisine</td>\n",
       "      <td>13</td>\n",
       "      <td>6.1</td>\n",
       "      <td>9</td>\n",
       "    </tr>\n",
       "    <tr>\n",
       "      <td>3</td>\n",
       "      <td>Bronx</td>\n",
       "      <td>Concourse</td>\n",
       "      <td>551b7f75498e86c00a0ed2e1</td>\n",
       "      <td>Hungry Bird</td>\n",
       "      <td>8</td>\n",
       "      <td>6.9</td>\n",
       "      <td>3</td>\n",
       "    </tr>\n",
       "    <tr>\n",
       "      <td>4</td>\n",
       "      <td>Bronx</td>\n",
       "      <td>Unionport</td>\n",
       "      <td>4c194631838020a13e78e561</td>\n",
       "      <td>Melanies Roti Bar And Grill</td>\n",
       "      <td>3</td>\n",
       "      <td>5.8</td>\n",
       "      <td>2</td>\n",
       "    </tr>\n",
       "  </tbody>\n",
       "</table>\n",
       "</div>"
      ],
      "text/plain": [
       "  Borough    Neighborhood                        ID  \\\n",
       "0   Bronx        Woodlawn  4c0448d9310fc9b6bf1dc761   \n",
       "1   Bronx     Parkchester  4c194631838020a13e78e561   \n",
       "2   Bronx  Spuyten Duyvil  4c04544df423a593ac83d116   \n",
       "3   Bronx       Concourse  551b7f75498e86c00a0ed2e1   \n",
       "4   Bronx       Unionport  4c194631838020a13e78e561   \n",
       "\n",
       "                          Name  Likes  Rating  Tips  \n",
       "0                   Curry Spot      5     7.6    10  \n",
       "1  Melanies Roti Bar And Grill      3     5.8     2  \n",
       "2         Cumin Indian Cuisine     13     6.1     9  \n",
       "3                  Hungry Bird      8     6.9     3  \n",
       "4  Melanies Roti Bar And Grill      3     5.8     2  "
      ]
     },
     "execution_count": 24,
     "metadata": {},
     "output_type": "execute_result"
    }
   ],
   "source": [
    "indian_rest_stats_ny_csv.head()"
   ]
  },
  {
   "cell_type": "code",
   "execution_count": 25,
   "metadata": {},
   "outputs": [
    {
     "name": "stdout",
     "output_type": "stream",
     "text": [
      "<class 'pandas.core.frame.DataFrame'>\n",
      "RangeIndex: 151 entries, 0 to 150\n",
      "Data columns (total 7 columns):\n",
      "Borough         151 non-null object\n",
      "Neighborhood    151 non-null object\n",
      "ID              151 non-null object\n",
      "Name            151 non-null object\n",
      "Likes           151 non-null object\n",
      "Rating          151 non-null float64\n",
      "Tips            151 non-null object\n",
      "dtypes: float64(1), object(6)\n",
      "memory usage: 4.8+ KB\n"
     ]
    }
   ],
   "source": [
    "indian_rest_stats_ny.info()"
   ]
  },
  {
   "cell_type": "markdown",
   "metadata": {},
   "source": [
    "The Data type of 'Likes' and  'Tips' are of type 'String'. we will convert them into type 'Float' for further analysis."
   ]
  },
  {
   "cell_type": "code",
   "execution_count": 26,
   "metadata": {},
   "outputs": [],
   "source": [
    "indian_rest_stats_ny['Likes']=indian_rest_stats_ny['Likes'].astype('float64')\n",
    "indian_rest_stats_ny['Tips']=indian_rest_stats_ny['Tips'].astype('float64')"
   ]
  },
  {
   "cell_type": "code",
   "execution_count": 27,
   "metadata": {},
   "outputs": [
    {
     "name": "stdout",
     "output_type": "stream",
     "text": [
      "<class 'pandas.core.frame.DataFrame'>\n",
      "RangeIndex: 151 entries, 0 to 150\n",
      "Data columns (total 7 columns):\n",
      "Borough         151 non-null object\n",
      "Neighborhood    151 non-null object\n",
      "ID              151 non-null object\n",
      "Name            151 non-null object\n",
      "Likes           151 non-null float64\n",
      "Rating          151 non-null float64\n",
      "Tips            151 non-null float64\n",
      "dtypes: float64(3), object(4)\n",
      "memory usage: 6.0+ KB\n"
     ]
    }
   ],
   "source": [
    "indian_rest_stats_ny.info()"
   ]
  },
  {
   "cell_type": "markdown",
   "metadata": {},
   "source": [
    "Now we will find the Indian restuarants with Maximum Likes, Maximum Ratings and Maximum Tips."
   ]
  },
  {
   "cell_type": "code",
   "execution_count": 28,
   "metadata": {},
   "outputs": [
    {
     "data": {
      "text/plain": [
       "Borough                        Manhattan\n",
       "Neighborhood                     Midtown\n",
       "ID              49d91c12f964a520015e1fe3\n",
       "Name               The Kati Roll Company\n",
       "Likes                                837\n",
       "Rating                               8.8\n",
       "Tips                                 260\n",
       "Name: 37, dtype: object"
      ]
     },
     "execution_count": 28,
     "metadata": {},
     "output_type": "execute_result"
    }
   ],
   "source": [
    "# Resturant with maximum Likes\n",
    "indian_rest_stats_ny.iloc[indian_rest_stats_ny['Likes'].idxmax()]"
   ]
  },
  {
   "cell_type": "code",
   "execution_count": 29,
   "metadata": {},
   "outputs": [
    {
     "data": {
      "text/plain": [
       "Borough                        Manhattan\n",
       "Neighborhood                     Tribeca\n",
       "ID              4bbb9dbded7776b0e1ad3e51\n",
       "Name                    Tamarind TriBeCa\n",
       "Likes                                589\n",
       "Rating                               9.1\n",
       "Tips                                 146\n",
       "Name: 40, dtype: object"
      ]
     },
     "execution_count": 29,
     "metadata": {},
     "output_type": "execute_result"
    }
   ],
   "source": [
    "# Resturant with maximum Rating\n",
    "indian_rest_stats_ny.iloc[indian_rest_stats_ny['Rating'].idxmax()]"
   ]
  },
  {
   "cell_type": "code",
   "execution_count": 30,
   "metadata": {},
   "outputs": [
    {
     "data": {
      "text/plain": [
       "Borough                        Manhattan\n",
       "Neighborhood                     Midtown\n",
       "ID              49d91c12f964a520015e1fe3\n",
       "Name               The Kati Roll Company\n",
       "Likes                                837\n",
       "Rating                               8.8\n",
       "Tips                                 260\n",
       "Name: 37, dtype: object"
      ]
     },
     "execution_count": 30,
     "metadata": {},
     "output_type": "execute_result"
    }
   ],
   "source": [
    "# Resturant with maximum Tips\n",
    "indian_rest_stats_ny.iloc[indian_rest_stats_ny['Tips'].idxmax()]"
   ]
  },
  {
   "cell_type": "markdown",
   "metadata": {},
   "source": [
    "Next lets visualize neighborhood with maximum average rating of resturants."
   ]
  },
  {
   "cell_type": "code",
   "execution_count": 31,
   "metadata": {},
   "outputs": [],
   "source": [
    "ny_neighborhood_stats=indian_rest_stats_ny.groupby('Neighborhood',as_index=False).mean()[['Neighborhood','Rating']]\n",
    "ny_neighborhood_stats.columns=['Neighborhood','Average Rating']"
   ]
  },
  {
   "cell_type": "code",
   "execution_count": 32,
   "metadata": {},
   "outputs": [
    {
     "data": {
      "text/html": [
       "<div>\n",
       "<style scoped>\n",
       "    .dataframe tbody tr th:only-of-type {\n",
       "        vertical-align: middle;\n",
       "    }\n",
       "\n",
       "    .dataframe tbody tr th {\n",
       "        vertical-align: top;\n",
       "    }\n",
       "\n",
       "    .dataframe thead th {\n",
       "        text-align: right;\n",
       "    }\n",
       "</style>\n",
       "<table border=\"1\" class=\"dataframe\">\n",
       "  <thead>\n",
       "    <tr style=\"text-align: right;\">\n",
       "      <th></th>\n",
       "      <th>Neighborhood</th>\n",
       "      <th>Average Rating</th>\n",
       "    </tr>\n",
       "  </thead>\n",
       "  <tbody>\n",
       "    <tr>\n",
       "      <td>12</td>\n",
       "      <td>Civic Center</td>\n",
       "      <td>9.100000</td>\n",
       "    </tr>\n",
       "    <tr>\n",
       "      <td>69</td>\n",
       "      <td>Tribeca</td>\n",
       "      <td>9.100000</td>\n",
       "    </tr>\n",
       "    <tr>\n",
       "      <td>0</td>\n",
       "      <td>Astoria</td>\n",
       "      <td>9.000000</td>\n",
       "    </tr>\n",
       "    <tr>\n",
       "      <td>5</td>\n",
       "      <td>Blissville</td>\n",
       "      <td>9.000000</td>\n",
       "    </tr>\n",
       "    <tr>\n",
       "      <td>75</td>\n",
       "      <td>West Village</td>\n",
       "      <td>8.800000</td>\n",
       "    </tr>\n",
       "    <tr>\n",
       "      <td>44</td>\n",
       "      <td>Midtown South</td>\n",
       "      <td>8.800000</td>\n",
       "    </tr>\n",
       "    <tr>\n",
       "      <td>43</td>\n",
       "      <td>Midtown</td>\n",
       "      <td>8.800000</td>\n",
       "    </tr>\n",
       "    <tr>\n",
       "      <td>29</td>\n",
       "      <td>Gramercy</td>\n",
       "      <td>8.733333</td>\n",
       "    </tr>\n",
       "    <tr>\n",
       "      <td>25</td>\n",
       "      <td>Fort Greene</td>\n",
       "      <td>8.700000</td>\n",
       "    </tr>\n",
       "    <tr>\n",
       "      <td>11</td>\n",
       "      <td>Chelsea</td>\n",
       "      <td>8.700000</td>\n",
       "    </tr>\n",
       "  </tbody>\n",
       "</table>\n",
       "</div>"
      ],
      "text/plain": [
       "     Neighborhood  Average Rating\n",
       "12   Civic Center        9.100000\n",
       "69        Tribeca        9.100000\n",
       "0         Astoria        9.000000\n",
       "5      Blissville        9.000000\n",
       "75   West Village        8.800000\n",
       "44  Midtown South        8.800000\n",
       "43        Midtown        8.800000\n",
       "29       Gramercy        8.733333\n",
       "25    Fort Greene        8.700000\n",
       "11        Chelsea        8.700000"
      ]
     },
     "execution_count": 32,
     "metadata": {},
     "output_type": "execute_result"
    }
   ],
   "source": [
    "ny_neighborhood_stats.sort_values(['Average Rating'],ascending=False).head(10)"
   ]
  },
  {
   "cell_type": "markdown",
   "metadata": {},
   "source": [
    "### Above are the top neighborhoods with top average rating of Indian resturants."
   ]
  },
  {
   "cell_type": "markdown",
   "metadata": {},
   "source": [
    "Similarly we will find the average rating of Indian Resturants for each Borough."
   ]
  },
  {
   "cell_type": "code",
   "execution_count": 33,
   "metadata": {},
   "outputs": [],
   "source": [
    "ny_borough_stats=indian_rest_stats_ny.groupby('Borough',as_index=False).mean()[['Borough','Rating']]\n",
    "ny_borough_stats.columns=['Borough','Average Rating']"
   ]
  },
  {
   "cell_type": "code",
   "execution_count": 34,
   "metadata": {},
   "outputs": [
    {
     "data": {
      "text/html": [
       "<div>\n",
       "<style scoped>\n",
       "    .dataframe tbody tr th:only-of-type {\n",
       "        vertical-align: middle;\n",
       "    }\n",
       "\n",
       "    .dataframe tbody tr th {\n",
       "        vertical-align: top;\n",
       "    }\n",
       "\n",
       "    .dataframe thead th {\n",
       "        text-align: right;\n",
       "    }\n",
       "</style>\n",
       "<table border=\"1\" class=\"dataframe\">\n",
       "  <thead>\n",
       "    <tr style=\"text-align: right;\">\n",
       "      <th></th>\n",
       "      <th>Borough</th>\n",
       "      <th>Average Rating</th>\n",
       "    </tr>\n",
       "  </thead>\n",
       "  <tbody>\n",
       "    <tr>\n",
       "      <td>2</td>\n",
       "      <td>Manhattan</td>\n",
       "      <td>8.210000</td>\n",
       "    </tr>\n",
       "    <tr>\n",
       "      <td>1</td>\n",
       "      <td>Brooklyn</td>\n",
       "      <td>7.700000</td>\n",
       "    </tr>\n",
       "    <tr>\n",
       "      <td>3</td>\n",
       "      <td>Queens</td>\n",
       "      <td>6.552113</td>\n",
       "    </tr>\n",
       "    <tr>\n",
       "      <td>0</td>\n",
       "      <td>Bronx</td>\n",
       "      <td>5.585714</td>\n",
       "    </tr>\n",
       "    <tr>\n",
       "      <td>4</td>\n",
       "      <td>Staten Island</td>\n",
       "      <td>3.533333</td>\n",
       "    </tr>\n",
       "  </tbody>\n",
       "</table>\n",
       "</div>"
      ],
      "text/plain": [
       "         Borough  Average Rating\n",
       "2      Manhattan        8.210000\n",
       "1       Brooklyn        7.700000\n",
       "3         Queens        6.552113\n",
       "0          Bronx        5.585714\n",
       "4  Staten Island        3.533333"
      ]
     },
     "execution_count": 34,
     "metadata": {},
     "output_type": "execute_result"
    }
   ],
   "source": [
    "ny_borough_stats.sort_values(['Average Rating'],ascending=False).head()"
   ]
  },
  {
   "cell_type": "markdown",
   "metadata": {},
   "source": [
    "Lets Visualize it."
   ]
  },
  {
   "cell_type": "code",
   "execution_count": 35,
   "metadata": {},
   "outputs": [
    {
     "data": {
      "image/png": "[encoded data removed]",
      "text/plain": [
       "<Figure size 900x500 with 1 Axes>"
      ]
     },
     "metadata": {
      "needs_background": "light"
     },
     "output_type": "display_data"
    }
   ],
   "source": [
    "plt.figure(figsize=(9,5), dpi = 100)\n",
    "# title\n",
    "plt.title('Average rating of Indian Resturants for each Borough')\n",
    "#On x-axis\n",
    "plt.xlabel('Borough', fontsize = 15)\n",
    "#On y-axis\n",
    "plt.ylabel('Average Rating', fontsize=15)\n",
    "#giving a bar plot\n",
    "indian_rest_stats_ny.groupby('Borough').mean()['Rating'].plot(kind='bar')\n",
    "#legend\n",
    "plt.legend()\n",
    "#displays the plot\n",
    "plt.show()"
   ]
  },
  {
   "cell_type": "markdown",
   "metadata": {},
   "source": [
    "We will consider all the neighborhoods with average rating greater or equal 9.0 to visualize on map."
   ]
  },
  {
   "cell_type": "code",
   "execution_count": 36,
   "metadata": {},
   "outputs": [],
   "source": [
    "ny_neighborhood_stats=ny_neighborhood_stats[ny_neighborhood_stats['Average Rating']>=9.0]"
   ]
  },
  {
   "cell_type": "code",
   "execution_count": 37,
   "metadata": {},
   "outputs": [
    {
     "data": {
      "text/html": [
       "<div>\n",
       "<style scoped>\n",
       "    .dataframe tbody tr th:only-of-type {\n",
       "        vertical-align: middle;\n",
       "    }\n",
       "\n",
       "    .dataframe tbody tr th {\n",
       "        vertical-align: top;\n",
       "    }\n",
       "\n",
       "    .dataframe thead th {\n",
       "        text-align: right;\n",
       "    }\n",
       "</style>\n",
       "<table border=\"1\" class=\"dataframe\">\n",
       "  <thead>\n",
       "    <tr style=\"text-align: right;\">\n",
       "      <th></th>\n",
       "      <th>Neighborhood</th>\n",
       "      <th>Average Rating</th>\n",
       "    </tr>\n",
       "  </thead>\n",
       "  <tbody>\n",
       "    <tr>\n",
       "      <td>0</td>\n",
       "      <td>Astoria</td>\n",
       "      <td>9.0</td>\n",
       "    </tr>\n",
       "    <tr>\n",
       "      <td>5</td>\n",
       "      <td>Blissville</td>\n",
       "      <td>9.0</td>\n",
       "    </tr>\n",
       "    <tr>\n",
       "      <td>12</td>\n",
       "      <td>Civic Center</td>\n",
       "      <td>9.1</td>\n",
       "    </tr>\n",
       "    <tr>\n",
       "      <td>69</td>\n",
       "      <td>Tribeca</td>\n",
       "      <td>9.1</td>\n",
       "    </tr>\n",
       "  </tbody>\n",
       "</table>\n",
       "</div>"
      ],
      "text/plain": [
       "    Neighborhood  Average Rating\n",
       "0        Astoria             9.0\n",
       "5     Blissville             9.0\n",
       "12  Civic Center             9.1\n",
       "69       Tribeca             9.1"
      ]
     },
     "execution_count": 37,
     "metadata": {},
     "output_type": "execute_result"
    }
   ],
   "source": [
    "ny_neighborhood_stats"
   ]
  },
  {
   "cell_type": "markdown",
   "metadata": {},
   "source": [
    "We will join this dataset to original new york data to get lonitude and latitude."
   ]
  },
  {
   "cell_type": "code",
   "execution_count": 38,
   "metadata": {},
   "outputs": [],
   "source": [
    "ny_neighborhood_stats=pd.merge(ny_neighborhood_stats,new_york_data, on='Neighborhood')"
   ]
  },
  {
   "cell_type": "code",
   "execution_count": 39,
   "metadata": {},
   "outputs": [],
   "source": [
    "ny_neighborhood_stats=ny_neighborhood_stats[['Borough','Neighborhood','Latitude','Longitude','Average Rating']]"
   ]
  },
  {
   "cell_type": "code",
   "execution_count": 40,
   "metadata": {},
   "outputs": [
    {
     "data": {
      "text/html": [
       "<div>\n",
       "<style scoped>\n",
       "    .dataframe tbody tr th:only-of-type {\n",
       "        vertical-align: middle;\n",
       "    }\n",
       "\n",
       "    .dataframe tbody tr th {\n",
       "        vertical-align: top;\n",
       "    }\n",
       "\n",
       "    .dataframe thead th {\n",
       "        text-align: right;\n",
       "    }\n",
       "</style>\n",
       "<table border=\"1\" class=\"dataframe\">\n",
       "  <thead>\n",
       "    <tr style=\"text-align: right;\">\n",
       "      <th></th>\n",
       "      <th>Borough</th>\n",
       "      <th>Neighborhood</th>\n",
       "      <th>Latitude</th>\n",
       "      <th>Longitude</th>\n",
       "      <th>Average Rating</th>\n",
       "    </tr>\n",
       "  </thead>\n",
       "  <tbody>\n",
       "    <tr>\n",
       "      <td>0</td>\n",
       "      <td>Queens</td>\n",
       "      <td>Astoria</td>\n",
       "      <td>40.768509</td>\n",
       "      <td>-73.915654</td>\n",
       "      <td>9.0</td>\n",
       "    </tr>\n",
       "    <tr>\n",
       "      <td>1</td>\n",
       "      <td>Queens</td>\n",
       "      <td>Blissville</td>\n",
       "      <td>40.737251</td>\n",
       "      <td>-73.932442</td>\n",
       "      <td>9.0</td>\n",
       "    </tr>\n",
       "    <tr>\n",
       "      <td>2</td>\n",
       "      <td>Manhattan</td>\n",
       "      <td>Civic Center</td>\n",
       "      <td>40.715229</td>\n",
       "      <td>-74.005415</td>\n",
       "      <td>9.1</td>\n",
       "    </tr>\n",
       "    <tr>\n",
       "      <td>3</td>\n",
       "      <td>Manhattan</td>\n",
       "      <td>Tribeca</td>\n",
       "      <td>40.721522</td>\n",
       "      <td>-74.010683</td>\n",
       "      <td>9.1</td>\n",
       "    </tr>\n",
       "  </tbody>\n",
       "</table>\n",
       "</div>"
      ],
      "text/plain": [
       "     Borough  Neighborhood   Latitude  Longitude  Average Rating\n",
       "0     Queens       Astoria  40.768509 -73.915654             9.0\n",
       "1     Queens    Blissville  40.737251 -73.932442             9.0\n",
       "2  Manhattan  Civic Center  40.715229 -74.005415             9.1\n",
       "3  Manhattan       Tribeca  40.721522 -74.010683             9.1"
      ]
     },
     "execution_count": 40,
     "metadata": {},
     "output_type": "execute_result"
    }
   ],
   "source": [
    "ny_neighborhood_stats"
   ]
  },
  {
   "cell_type": "markdown",
   "metadata": {},
   "source": [
    "Finally, Let's show this data on a map."
   ]
  },
  {
   "cell_type": "code",
   "execution_count": 41,
   "metadata": {},
   "outputs": [],
   "source": [
    "ny_map = folium.Map(location=geo_location('New York'), zoom_start=12)"
   ]
  },
  {
   "cell_type": "code",
   "execution_count": 42,
   "metadata": {},
   "outputs": [],
   "source": [
    "# instantiate a feature group for the incidents in the dataframe\n",
    "incidents = folium.map.FeatureGroup()\n",
    "\n",
    "# loop through the neighborhood and add each to the feature group\n",
    "for lat, lng, in ny_neighborhood_stats[['Latitude','Longitude']].values:\n",
    "    incidents.add_child(\n",
    "        folium.CircleMarker(\n",
    "            [lat, lng],\n",
    "            radius=10, # define how big you want the circle markers to be\n",
    "            color='yellow',\n",
    "            fill=True,\n",
    "            fill_color='blue',\n",
    "            fill_opacity=0.6\n",
    "        )\n",
    "    )"
   ]
  },
  {
   "cell_type": "markdown",
   "metadata": {},
   "source": [
    "Lets add a new field to dataframe for labeling purpose."
   ]
  },
  {
   "cell_type": "code",
   "execution_count": 43,
   "metadata": {},
   "outputs": [],
   "source": [
    "ny_neighborhood_stats['Label']=ny_neighborhood_stats['Neighborhood']+', '+ny_neighborhood_stats['Borough']+'('+ny_neighborhood_stats['Average Rating'].map(str)+')'"
   ]
  },
  {
   "cell_type": "code",
   "execution_count": 44,
   "metadata": {},
   "outputs": [
    {
     "data": {
      "text/html": [
       "<div style=\"width:100%;\"><div style=\"position:relative;width:100%;height:0;padding-bottom:60%;\"><iframe src=\"data:text/html;charset=utf-8;base64,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\" style=\"position:absolute;width:100%;height:100%;left:0;top:0;border:none !important;\" allowfullscreen webkitallowfullscreen mozallowfullscreen></iframe></div></div>"
      ],
      "text/plain": [
       "<folium.folium.Map at 0x57db610>"
      ]
     },
     "execution_count": 44,
     "metadata": {},
     "output_type": "execute_result"
    }
   ],
   "source": [
    "# add pop-up text to each marker on the map\n",
    "for lat, lng, label in ny_neighborhood_stats[['Latitude','Longitude','Label']].values:\n",
    "    folium.Marker([lat, lng], popup=label).add_to(ny_map)        \n",
    "# add incidents to map\n",
    "ny_map.add_child(incidents)"
   ]
  },
  {
   "cell_type": "markdown",
   "metadata": {},
   "source": [
    "Now that we have visualized the Neighborhoods.\n",
    "Lets Visualize Boroughs based on average Rating."
   ]
  },
  {
   "cell_type": "code",
   "execution_count": 53,
   "metadata": {},
   "outputs": [],
   "source": [
    "ny_map = folium.Map(location=geo_location('New York'), zoom_start=12)\n",
    "ny_geo = r'Borough_Boundaries.geojson'\n",
    "\n",
    "map = ny_map.choropleth(\n",
    "    geo_data=ny_geo,\n",
    "    data=ny_borough_stats,\n",
    "    columns=['Borough', 'Average Rating'],\n",
    "    key_on='feature.properties.boro_name',\n",
    "    fill_color='YlOrRd', \n",
    "    fill_opacity=0.7, \n",
    "    line_opacity=0.2,\n",
    "    legend_name='Average Rating'\n",
    ")\n",
    "\n",
    "# display map\n",
    "# as this is huge map data , we will save it to a file\n",
    "ny_map.save('borough_rating.html')"
   ]
  },
  {
   "cell_type": "markdown",
   "metadata": {},
   "source": [
    "# Conclusion:"
   ]
  },
  {
   "cell_type": "markdown",
   "metadata": {},
   "source": [
    "### So now we can answer the questions asked above in the Questions section of the notebook.\n",
    "### From our anaysis the answers to the above questions are:"
   ]
  },
  {
   "cell_type": "markdown",
   "metadata": {},
   "source": [
    "#### A1) Astoria(Queens), Blissville(Queens), Civic Center(Manhattan) are some of the best neighborhoods for Indian cuisine.\n",
    "#### A2) Manhattan have potential Indian Resturant Market.\n",
    "#### A3) Staten Island ranks last in average rating of Indian Resturants.\n",
    "#### A4) Manhattan is the best place to stay if you prefer Indian Cuisine."
   ]
  }
 ],
 "metadata": {
  "kernelspec": {
   "display_name": "Python 3",
   "language": "python",
   "name": "python3"
  },
  "language_info": {
   "codemirror_mode": {
    "name": "ipython",
    "version": 3
   },
   "file_extension": ".py",
   "mimetype": "text/x-python",
   "name": "python",
   "nbconvert_exporter": "python",
   "pygments_lexer": "ipython3",
   "version": "3.7.4"
  }
 },
 "nbformat": 4,
 "nbformat_minor": 1
}
